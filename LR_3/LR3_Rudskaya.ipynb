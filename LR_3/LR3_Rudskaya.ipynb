{
 "cells": [
  {
   "cell_type": "markdown",
   "id": "a1aef29b",
   "metadata": {},
   "source": [
    "`Дисциплина: Методы и технологии машинного обучения`   \n",
    "`Уровень подготовки: бакалавриат`   \n",
    "`Направление подготовки: 01.03.02 Прикладная математика и информатика`   \n",
    "`Семестр: осень 2021/2022\n",
    " Выполнила: Рудская Ирина\n",
    " Вариант №17`\n",
    "\n",
    "\n",
    "\n",
    "\n",
    "# Лабораторная работа №3: Линейные модели. Кросс-валидация. \n",
    "\n",
    "В практических примерах ниже показано:   \n",
    "\n",
    "* как пользоваться инструментами предварительного анализа для поиска линейных взаимосвязей \n",
    "* как строить и интерпретировать линейные модели с логарифмами  \n",
    "* как оценивать точность моделей с перекрёстной проверкой (LOOCV, проверка по блокам)\n",
    "\n",
    "*Модели*: множественная линейная регрессия \n",
    "\n",
    "*Данные*: `College_for_lab` (источник: <https://github.com/aksyuk/MTML/blob/main/Labs/data/College_for_lab.csv>)\n",
    "\n",
    "* `Private` - частный или государственный университет: Yes - частный, No - государственный;\n",
    "* `Apps` - количество полученных заявок на поступление;\n",
    "* `Accept` - количество принятых заявок на поступление;\n",
    "* `Enroll` - количество зачисленных новых студентов;\n",
    "* `Top10perc` - процент зачисленных студентов, которые в старшей школе относились к топ-10% в классе по успеваемости;\n",
    "* `Top25perc` - процент зачисленных студентов, которые в старшей школе относились к топ-25% в классе по успеваемости;\n",
    "* `F_Undergrad` - количество студентов очной формы обучения;\n",
    "* `P_Undergrad` - количество студентов, обучающихся по совместительству;\n",
    "* `Outstate` - плата за обучение от студентов, проживающих за пределами штата;\n",
    "* `Room_Board` - расходы на проживание и питание;\n",
    "* `Books` - ориентировочная стоимость учебников;\n",
    "* `Personal` - предполагаемые личные расходы;\n",
    "* `PhD` - процент преподавателей со степенью доктора философии;\n",
    "* `Terminal` - процент преподавателей с высшим образованием;\n",
    "* `S_F_Ratio` - соотношение студентов и преподавателей;\n",
    "* `perc_alumni` - процент выпускников, которые делают пожертвования колледжу;\n",
    "* `Expend` - расходы на обучение на одного студента;\n",
    "* `Grad_Rate` - выпускной балл.\n",
    "\n",
    "#### Зависимая переменная:\n",
    "`Grad_Rate`\n",
    "\n",
    "#### Объясняющие переменные\n",
    "`Accept`, `Top10perc`, `Private`"
   ]
  },
  {
   "cell_type": "markdown",
   "id": "61b9ab5d",
   "metadata": {},
   "source": [
    "# Указания к выполнению\n",
    "\n",
    "\n",
    "## Загружаем пакеты"
   ]
  },
  {
   "cell_type": "code",
   "execution_count": 1,
   "id": "c8fa189c",
   "metadata": {},
   "outputs": [],
   "source": [
    "# загрузка пакетов: инструменты --------------------------------------------\n",
    "#  работа с массивами\n",
    "import numpy as np\n",
    "#  фреймы данных\n",
    "import pandas as pd\n",
    "#  графики\n",
    "import matplotlib as mpl\n",
    "#  стили и шаблоны графиков на основе matplotlib\n",
    "import seaborn as sns\n",
    "# перекодировка категориальных переменных\n",
    "from sklearn.preprocessing import LabelEncoder\n",
    "#  тест Шапиро-Уилка на нормальность распределения\n",
    "from scipy.stats import shapiro\n",
    "#  для таймера\n",
    "import time\n",
    "\n",
    "# загрузка пакетов: модели -------------------------------------------------\n",
    "#  линейные модели\n",
    "import sklearn.linear_model as skl_lm\n",
    "#  расчёт MSE\n",
    "from sklearn.metrics import mean_squared_error\n",
    "#  кросс-валидация\n",
    "from sklearn.model_selection import train_test_split, LeaveOneOut \n",
    "from sklearn.model_selection import KFold, cross_val_score\n",
    "#  полиномиальные модели\n",
    "from sklearn.preprocessing import PolynomialFeatures"
   ]
  },
  {
   "cell_type": "code",
   "execution_count": 2,
   "id": "43a4a48e",
   "metadata": {},
   "outputs": [],
   "source": [
    "# константы\n",
    "#  ядро для генератора случайных чисел\n",
    "my_seed = 17\n",
    "#  создаём псевдоним для короткого обращения к графикам\n",
    "plt = mpl.pyplot\n",
    "# настройка стиля и отображения графиков\n",
    "#  примеры стилей и шаблонов графиков: \n",
    "#  http://tonysyu.github.io/raw_content/matplotlib-style-gallery/gallery.html\n",
    "mpl.style.use('seaborn-whitegrid')\n",
    "sns.set_palette(\"Set2\")\n",
    "# раскомментируйте следующую строку, чтобы посмотреть палитру\n",
    "#sns.color_palette(\"Set2\")"
   ]
  },
  {
   "cell_type": "markdown",
   "id": "87618f1b",
   "metadata": {},
   "source": [
    "### Загружаем данные\n",
    "\n",
    "Набор данных `insurance` в формате .csv доступен для загрузки по адресу: <https://raw.githubusercontent.com/aksyuk/MTML/main/Labs/data/College_for_lab.csv>. \n",
    "\n",
    "Справочник к данным: <https://github.com/aksyuk/MTML/blob/main/Labs/data/CodeBook_College_for_lab.md>.  \n",
    "\n",
    "Загружаем данные во фрейм и кодируем категориальные переменные.\n",
    "\n"
   ]
  },
  {
   "cell_type": "code",
   "execution_count": 3,
   "id": "a7e42f2c",
   "metadata": {},
   "outputs": [
    {
     "name": "stdout",
     "output_type": "stream",
     "text": [
      "Число строк и столбцов в наборе данных:\n",
      " (777, 9)\n"
     ]
    }
   ],
   "source": [
    "# читаем таблицу из файла .csv во фрейм\n",
    "fileURL = 'https://raw.githubusercontent.com/aksyuk/MTML/main/Labs/data/College_for_lab.csv'\n",
    "DF_raw = pd.read_csv(fileURL)\n",
    "\n",
    "# выясняем размерность фрейма\n",
    "print('Число строк и столбцов в наборе данных:\\n', DF_raw.shape)"
   ]
  },
  {
   "cell_type": "code",
   "execution_count": 4,
   "id": "2c2eedc8",
   "metadata": {},
   "outputs": [
    {
     "data": {
      "text/html": [
       "<div>\n",
       "<style scoped>\n",
       "    .dataframe tbody tr th:only-of-type {\n",
       "        vertical-align: middle;\n",
       "    }\n",
       "\n",
       "    .dataframe tbody tr th {\n",
       "        vertical-align: top;\n",
       "    }\n",
       "\n",
       "    .dataframe thead th {\n",
       "        text-align: right;\n",
       "    }\n",
       "</style>\n",
       "<table border=\"1\" class=\"dataframe\">\n",
       "  <thead>\n",
       "    <tr style=\"text-align: right;\">\n",
       "      <th></th>\n",
       "      <th>Grad_Rate</th>\n",
       "      <th>Accept</th>\n",
       "      <th>Top10perc</th>\n",
       "      <th>Top25perc</th>\n",
       "      <th>F_Undergrad</th>\n",
       "      <th>P_Undergrad</th>\n",
       "      <th>PhD</th>\n",
       "      <th>Expend</th>\n",
       "      <th>Private</th>\n",
       "    </tr>\n",
       "  </thead>\n",
       "  <tbody>\n",
       "    <tr>\n",
       "      <th>0</th>\n",
       "      <td>60</td>\n",
       "      <td>1232</td>\n",
       "      <td>23</td>\n",
       "      <td>52</td>\n",
       "      <td>2885</td>\n",
       "      <td>537</td>\n",
       "      <td>70</td>\n",
       "      <td>7041</td>\n",
       "      <td>Yes</td>\n",
       "    </tr>\n",
       "    <tr>\n",
       "      <th>1</th>\n",
       "      <td>56</td>\n",
       "      <td>1924</td>\n",
       "      <td>16</td>\n",
       "      <td>29</td>\n",
       "      <td>2683</td>\n",
       "      <td>1227</td>\n",
       "      <td>29</td>\n",
       "      <td>10527</td>\n",
       "      <td>Yes</td>\n",
       "    </tr>\n",
       "    <tr>\n",
       "      <th>2</th>\n",
       "      <td>54</td>\n",
       "      <td>1097</td>\n",
       "      <td>22</td>\n",
       "      <td>50</td>\n",
       "      <td>1036</td>\n",
       "      <td>99</td>\n",
       "      <td>53</td>\n",
       "      <td>8735</td>\n",
       "      <td>Yes</td>\n",
       "    </tr>\n",
       "    <tr>\n",
       "      <th>3</th>\n",
       "      <td>59</td>\n",
       "      <td>349</td>\n",
       "      <td>60</td>\n",
       "      <td>89</td>\n",
       "      <td>510</td>\n",
       "      <td>63</td>\n",
       "      <td>92</td>\n",
       "      <td>19016</td>\n",
       "      <td>Yes</td>\n",
       "    </tr>\n",
       "    <tr>\n",
       "      <th>4</th>\n",
       "      <td>15</td>\n",
       "      <td>146</td>\n",
       "      <td>16</td>\n",
       "      <td>44</td>\n",
       "      <td>249</td>\n",
       "      <td>869</td>\n",
       "      <td>76</td>\n",
       "      <td>10922</td>\n",
       "      <td>Yes</td>\n",
       "    </tr>\n",
       "  </tbody>\n",
       "</table>\n",
       "</div>"
      ],
      "text/plain": [
       "   Grad_Rate  Accept  Top10perc  Top25perc  F_Undergrad  P_Undergrad  PhD  \\\n",
       "0         60    1232         23         52         2885          537   70   \n",
       "1         56    1924         16         29         2683         1227   29   \n",
       "2         54    1097         22         50         1036           99   53   \n",
       "3         59     349         60         89          510           63   92   \n",
       "4         15     146         16         44          249          869   76   \n",
       "\n",
       "   Expend Private  \n",
       "0    7041     Yes  \n",
       "1   10527     Yes  \n",
       "2    8735     Yes  \n",
       "3   19016     Yes  \n",
       "4   10922     Yes  "
      ]
     },
     "execution_count": 4,
     "metadata": {},
     "output_type": "execute_result"
    }
   ],
   "source": [
    "# первые 5 строк фрейма\n",
    "DF_raw.head(5)"
   ]
  },
  {
   "cell_type": "code",
   "execution_count": 5,
   "id": "1e97a472",
   "metadata": {},
   "outputs": [
    {
     "data": {
      "text/plain": [
       "Grad_Rate       int64\n",
       "Accept          int64\n",
       "Top10perc       int64\n",
       "Top25perc       int64\n",
       "F_Undergrad     int64\n",
       "P_Undergrad     int64\n",
       "PhD             int64\n",
       "Expend          int64\n",
       "Private        object\n",
       "dtype: object"
      ]
     },
     "execution_count": 5,
     "metadata": {},
     "output_type": "execute_result"
    }
   ],
   "source": [
    "# типы столбцов фрейма\n",
    "DF_raw.dtypes"
   ]
  },
  {
   "cell_type": "markdown",
   "id": "d4a540a2",
   "metadata": {},
   "source": [
    "Проверим, нет ли в таблице пропусков.  "
   ]
  },
  {
   "cell_type": "code",
   "execution_count": 6,
   "id": "42a96cd9",
   "metadata": {},
   "outputs": [
    {
     "data": {
      "text/plain": [
       "Grad_Rate      0\n",
       "Accept         0\n",
       "Top10perc      0\n",
       "Top25perc      0\n",
       "F_Undergrad    0\n",
       "P_Undergrad    0\n",
       "PhD            0\n",
       "Expend         0\n",
       "Private        0\n",
       "dtype: int64"
      ]
     },
     "execution_count": 6,
     "metadata": {},
     "output_type": "execute_result"
    }
   ],
   "source": [
    "# считаем пропуски в каждом столбце\n",
    "DF_raw.isna().sum()"
   ]
  },
  {
   "cell_type": "markdown",
   "id": "2941191c",
   "metadata": {},
   "source": [
    "Пропусков не обнаружено.  "
   ]
  },
  {
   "cell_type": "code",
   "execution_count": 7,
   "id": "30cc908a",
   "metadata": {},
   "outputs": [],
   "source": [
    "# кодируем категориальные переменные\n",
    "# тип университета\n",
    "# Yes - частный, No - государственный\n",
    "Private_dict = {'Yes' : 1, 'No' : 0}\n",
    "DF_raw['PrivateYes'] = DF_raw.Private.map(Private_dict)"
   ]
  },
  {
   "cell_type": "code",
   "execution_count": 8,
   "id": "3d95125d",
   "metadata": {},
   "outputs": [
    {
     "data": {
      "text/html": [
       "<div>\n",
       "<style scoped>\n",
       "    .dataframe tbody tr th:only-of-type {\n",
       "        vertical-align: middle;\n",
       "    }\n",
       "\n",
       "    .dataframe tbody tr th {\n",
       "        vertical-align: top;\n",
       "    }\n",
       "\n",
       "    .dataframe thead th {\n",
       "        text-align: right;\n",
       "    }\n",
       "</style>\n",
       "<table border=\"1\" class=\"dataframe\">\n",
       "  <thead>\n",
       "    <tr style=\"text-align: right;\">\n",
       "      <th></th>\n",
       "      <th>Grad_Rate</th>\n",
       "      <th>Accept</th>\n",
       "      <th>Top10perc</th>\n",
       "      <th>PrivateYes</th>\n",
       "    </tr>\n",
       "  </thead>\n",
       "  <tbody>\n",
       "    <tr>\n",
       "      <th>0</th>\n",
       "      <td>60</td>\n",
       "      <td>1232</td>\n",
       "      <td>23</td>\n",
       "      <td>1</td>\n",
       "    </tr>\n",
       "    <tr>\n",
       "      <th>1</th>\n",
       "      <td>56</td>\n",
       "      <td>1924</td>\n",
       "      <td>16</td>\n",
       "      <td>1</td>\n",
       "    </tr>\n",
       "    <tr>\n",
       "      <th>2</th>\n",
       "      <td>54</td>\n",
       "      <td>1097</td>\n",
       "      <td>22</td>\n",
       "      <td>1</td>\n",
       "    </tr>\n",
       "    <tr>\n",
       "      <th>3</th>\n",
       "      <td>59</td>\n",
       "      <td>349</td>\n",
       "      <td>60</td>\n",
       "      <td>1</td>\n",
       "    </tr>\n",
       "    <tr>\n",
       "      <th>4</th>\n",
       "      <td>15</td>\n",
       "      <td>146</td>\n",
       "      <td>16</td>\n",
       "      <td>1</td>\n",
       "    </tr>\n",
       "  </tbody>\n",
       "</table>\n",
       "</div>"
      ],
      "text/plain": [
       "   Grad_Rate  Accept  Top10perc  PrivateYes\n",
       "0         60    1232         23           1\n",
       "1         56    1924         16           1\n",
       "2         54    1097         22           1\n",
       "3         59     349         60           1\n",
       "4         15     146         16           1"
      ]
     },
     "execution_count": 8,
     "metadata": {},
     "output_type": "execute_result"
    }
   ],
   "source": [
    "# оставляем в наборе данных только то, что нужно \n",
    "DF_all = DF_raw[['Grad_Rate', 'Accept', 'Top10perc', 'PrivateYes']]\n",
    "DF_all.columns\n",
    "DF_all.head()"
   ]
  },
  {
   "cell_type": "code",
   "execution_count": 9,
   "id": "fc8ced80",
   "metadata": {},
   "outputs": [
    {
     "data": {
      "text/plain": [
       "Grad_Rate     int64\n",
       "Accept        int64\n",
       "Top10perc     int64\n",
       "PrivateYes    int64\n",
       "dtype: object"
      ]
     },
     "execution_count": 9,
     "metadata": {},
     "output_type": "execute_result"
    }
   ],
   "source": [
    "DF_all.dtypes"
   ]
  },
  {
   "cell_type": "markdown",
   "id": "3e2e4cdb",
   "metadata": {},
   "source": [
    "Прежде чем переходить к анализу данных, разделим фрейм на две части: одна (80%) станет основой для обучения моделей, на вторую (20%) мы сделаем прогноз по лучшей модели.  "
   ]
  },
  {
   "cell_type": "code",
   "execution_count": 10,
   "id": "f42f55d0",
   "metadata": {},
   "outputs": [],
   "source": [
    "# данные для построения моделей\n",
    "DF = DF_all.sample(frac = 0.8, random_state = my_seed)\n",
    "\n",
    "# данные для прогнозов\n",
    "DF_predict = DF_all.drop(DF.index)"
   ]
  },
  {
   "cell_type": "markdown",
   "id": "d99246ac",
   "metadata": {},
   "source": [
    "Для проверки выведем несколько строк для данных для построения моделей и для прогнозов."
   ]
  },
  {
   "cell_type": "code",
   "execution_count": 11,
   "id": "ee9e1c1f",
   "metadata": {},
   "outputs": [
    {
     "data": {
      "text/html": [
       "<div>\n",
       "<style scoped>\n",
       "    .dataframe tbody tr th:only-of-type {\n",
       "        vertical-align: middle;\n",
       "    }\n",
       "\n",
       "    .dataframe tbody tr th {\n",
       "        vertical-align: top;\n",
       "    }\n",
       "\n",
       "    .dataframe thead th {\n",
       "        text-align: right;\n",
       "    }\n",
       "</style>\n",
       "<table border=\"1\" class=\"dataframe\">\n",
       "  <thead>\n",
       "    <tr style=\"text-align: right;\">\n",
       "      <th></th>\n",
       "      <th>Grad_Rate</th>\n",
       "      <th>Accept</th>\n",
       "      <th>Top10perc</th>\n",
       "      <th>PrivateYes</th>\n",
       "    </tr>\n",
       "  </thead>\n",
       "  <tbody>\n",
       "    <tr>\n",
       "      <th>25</th>\n",
       "      <td>48</td>\n",
       "      <td>1729</td>\n",
       "      <td>12</td>\n",
       "      <td>0</td>\n",
       "    </tr>\n",
       "    <tr>\n",
       "      <th>481</th>\n",
       "      <td>81</td>\n",
       "      <td>321</td>\n",
       "      <td>28</td>\n",
       "      <td>1</td>\n",
       "    </tr>\n",
       "    <tr>\n",
       "      <th>593</th>\n",
       "      <td>91</td>\n",
       "      <td>1798</td>\n",
       "      <td>46</td>\n",
       "      <td>1</td>\n",
       "    </tr>\n",
       "    <tr>\n",
       "      <th>56</th>\n",
       "      <td>75</td>\n",
       "      <td>3028</td>\n",
       "      <td>15</td>\n",
       "      <td>0</td>\n",
       "    </tr>\n",
       "    <tr>\n",
       "      <th>168</th>\n",
       "      <td>54</td>\n",
       "      <td>329</td>\n",
       "      <td>4</td>\n",
       "      <td>1</td>\n",
       "    </tr>\n",
       "  </tbody>\n",
       "</table>\n",
       "</div>"
      ],
      "text/plain": [
       "     Grad_Rate  Accept  Top10perc  PrivateYes\n",
       "25          48    1729         12           0\n",
       "481         81     321         28           1\n",
       "593         91    1798         46           1\n",
       "56          75    3028         15           0\n",
       "168         54     329          4           1"
      ]
     },
     "execution_count": 11,
     "metadata": {},
     "output_type": "execute_result"
    }
   ],
   "source": [
    "# данные для построения моделей\n",
    "DF.head(5)"
   ]
  },
  {
   "cell_type": "code",
   "execution_count": 12,
   "id": "48da65ad",
   "metadata": {},
   "outputs": [
    {
     "data": {
      "text/html": [
       "<div>\n",
       "<style scoped>\n",
       "    .dataframe tbody tr th:only-of-type {\n",
       "        vertical-align: middle;\n",
       "    }\n",
       "\n",
       "    .dataframe tbody tr th {\n",
       "        vertical-align: top;\n",
       "    }\n",
       "\n",
       "    .dataframe thead th {\n",
       "        text-align: right;\n",
       "    }\n",
       "</style>\n",
       "<table border=\"1\" class=\"dataframe\">\n",
       "  <thead>\n",
       "    <tr style=\"text-align: right;\">\n",
       "      <th></th>\n",
       "      <th>Grad_Rate</th>\n",
       "      <th>Accept</th>\n",
       "      <th>Top10perc</th>\n",
       "      <th>PrivateYes</th>\n",
       "    </tr>\n",
       "  </thead>\n",
       "  <tbody>\n",
       "    <tr>\n",
       "      <th>1</th>\n",
       "      <td>56</td>\n",
       "      <td>1924</td>\n",
       "      <td>16</td>\n",
       "      <td>1</td>\n",
       "    </tr>\n",
       "    <tr>\n",
       "      <th>2</th>\n",
       "      <td>54</td>\n",
       "      <td>1097</td>\n",
       "      <td>22</td>\n",
       "      <td>1</td>\n",
       "    </tr>\n",
       "    <tr>\n",
       "      <th>5</th>\n",
       "      <td>55</td>\n",
       "      <td>479</td>\n",
       "      <td>38</td>\n",
       "      <td>1</td>\n",
       "    </tr>\n",
       "    <tr>\n",
       "      <th>8</th>\n",
       "      <td>80</td>\n",
       "      <td>839</td>\n",
       "      <td>30</td>\n",
       "      <td>1</td>\n",
       "    </tr>\n",
       "    <tr>\n",
       "      <th>17</th>\n",
       "      <td>59</td>\n",
       "      <td>908</td>\n",
       "      <td>19</td>\n",
       "      <td>1</td>\n",
       "    </tr>\n",
       "  </tbody>\n",
       "</table>\n",
       "</div>"
      ],
      "text/plain": [
       "    Grad_Rate  Accept  Top10perc  PrivateYes\n",
       "1          56    1924         16           1\n",
       "2          54    1097         22           1\n",
       "5          55     479         38           1\n",
       "8          80     839         30           1\n",
       "17         59     908         19           1"
      ]
     },
     "execution_count": 12,
     "metadata": {},
     "output_type": "execute_result"
    }
   ],
   "source": [
    "# данные для прогонозов\n",
    "DF_predict.head(5)"
   ]
  },
  {
   "cell_type": "markdown",
   "id": "25fbd25b",
   "metadata": {},
   "source": [
    "## Предварительный анализ данных   \n",
    "\n",
    "### Считаем описательные статистики   \n",
    "\n",
    "Рассчитаем описательные статистики для непрерывных переменных. Из таблицы ниже можно видеть, что переменная `Grad_Rate`, которая является зависимой переменной модели, несильно отличается по масштабу от `Top10perc`, а `Accept` отличается от них двоих. Это логично, если обратиться к описанию перемнных.\n",
    "\n",
    "* `Grad_Rate` - выпускной балл;\n",
    "* `Top10perc` - процент зачисленных студентов, которые в старшей школе относились к топ-10% в классе по успеваемости;\n",
    "* `Accept` - количество принятых заявок на поступление.\n",
    "\n",
    "Очевидно, объясняющая переменная `PrivateYes` принимает нулевые значения, так как она дискретна и ее возможные знаяения - 0 или 1. Остальные показатели положительны."
   ]
  },
  {
   "cell_type": "code",
   "execution_count": 13,
   "id": "26582dc3",
   "metadata": {},
   "outputs": [
    {
     "data": {
      "text/html": [
       "<div>\n",
       "<style scoped>\n",
       "    .dataframe tbody tr th:only-of-type {\n",
       "        vertical-align: middle;\n",
       "    }\n",
       "\n",
       "    .dataframe tbody tr th {\n",
       "        vertical-align: top;\n",
       "    }\n",
       "\n",
       "    .dataframe thead th {\n",
       "        text-align: right;\n",
       "    }\n",
       "</style>\n",
       "<table border=\"1\" class=\"dataframe\">\n",
       "  <thead>\n",
       "    <tr style=\"text-align: right;\">\n",
       "      <th></th>\n",
       "      <th>Grad_Rate</th>\n",
       "      <th>Accept</th>\n",
       "      <th>Top10perc</th>\n",
       "    </tr>\n",
       "  </thead>\n",
       "  <tbody>\n",
       "    <tr>\n",
       "      <th>count</th>\n",
       "      <td>622.000000</td>\n",
       "      <td>622.000000</td>\n",
       "      <td>622.000000</td>\n",
       "    </tr>\n",
       "    <tr>\n",
       "      <th>mean</th>\n",
       "      <td>65.771704</td>\n",
       "      <td>2107.274920</td>\n",
       "      <td>27.824759</td>\n",
       "    </tr>\n",
       "    <tr>\n",
       "      <th>std</th>\n",
       "      <td>17.450809</td>\n",
       "      <td>2602.168187</td>\n",
       "      <td>18.406481</td>\n",
       "    </tr>\n",
       "    <tr>\n",
       "      <th>min</th>\n",
       "      <td>10.000000</td>\n",
       "      <td>90.000000</td>\n",
       "      <td>1.000000</td>\n",
       "    </tr>\n",
       "    <tr>\n",
       "      <th>25%</th>\n",
       "      <td>53.000000</td>\n",
       "      <td>589.750000</td>\n",
       "      <td>15.000000</td>\n",
       "    </tr>\n",
       "    <tr>\n",
       "      <th>50%</th>\n",
       "      <td>66.000000</td>\n",
       "      <td>1193.500000</td>\n",
       "      <td>23.000000</td>\n",
       "    </tr>\n",
       "    <tr>\n",
       "      <th>75%</th>\n",
       "      <td>78.000000</td>\n",
       "      <td>2569.500000</td>\n",
       "      <td>36.000000</td>\n",
       "    </tr>\n",
       "    <tr>\n",
       "      <th>max</th>\n",
       "      <td>118.000000</td>\n",
       "      <td>26330.000000</td>\n",
       "      <td>96.000000</td>\n",
       "    </tr>\n",
       "  </tbody>\n",
       "</table>\n",
       "</div>"
      ],
      "text/plain": [
       "        Grad_Rate        Accept   Top10perc\n",
       "count  622.000000    622.000000  622.000000\n",
       "mean    65.771704   2107.274920   27.824759\n",
       "std     17.450809   2602.168187   18.406481\n",
       "min     10.000000     90.000000    1.000000\n",
       "25%     53.000000    589.750000   15.000000\n",
       "50%     66.000000   1193.500000   23.000000\n",
       "75%     78.000000   2569.500000   36.000000\n",
       "max    118.000000  26330.000000   96.000000"
      ]
     },
     "execution_count": 13,
     "metadata": {},
     "output_type": "execute_result"
    }
   ],
   "source": [
    "# описательные статистики для непрерывных переменных\n",
    "DF[['Grad_Rate', 'Accept', 'Top10perc']].describe()"
   ]
  },
  {
   "cell_type": "markdown",
   "id": "3c626566",
   "metadata": {},
   "source": [
    "### Строим графики  \n",
    "\n",
    "Посмотрим на графики взаимного разброса непрерывных переменных. "
   ]
  },
  {
   "cell_type": "code",
   "execution_count": 14,
   "id": "df2c9748",
   "metadata": {},
   "outputs": [
    {
     "data": {
      "image/png": "[encoded data removed]",
      "text/plain": [
       "<Figure size 720x720 with 20 Axes>"
      ]
     },
     "metadata": {},
     "output_type": "display_data"
    }
   ],
   "source": [
    "# матричный график разброса с линиями регрессии\n",
    "sns.pairplot(DF[['Grad_Rate', 'Accept', 'Top10perc', 'PrivateYes']])\n",
    "plt.show()"
   ]
  },
  {
   "cell_type": "markdown",
   "id": "a49d675b",
   "metadata": {},
   "source": [
    "Судя по этим графикам:  \n",
    "* не смотря на близкое к нормальному распределению, распределение зависимой `Grad_Rate` нельзя назвать нормальным;  \n",
    "* из всех объясняющих только `Top10perc` близка к нормальному, однако распределение так же нельзя назвать нормальным;  \n",
    "* объясняющая `PrivateYes` дискретна, что очевидно из её смысла: частный или государственный университет;  \n",
    "* не наблюдается линейной связи между перемннными. \n",
    "\n",
    "\n",
    "Наблюдаемые закономерности могут объясняться влиянием одной или нескольких из фиктивных объясняющих переменных. Построим график, раскрасив точки цветом в зависимости от типа университета.  "
   ]
  },
  {
   "cell_type": "code",
   "execution_count": 15,
   "id": "1579c040",
   "metadata": {},
   "outputs": [
    {
     "data": {
      "image/png": "[encoded data removed]",
      "text/plain": [
       "<Figure size 595.625x540 with 12 Axes>"
      ]
     },
     "metadata": {},
     "output_type": "display_data"
    }
   ],
   "source": [
    "# матричный график разброса с цветом по типу университета\n",
    "sns.pairplot(DF[['Grad_Rate', 'Accept', 'Top10perc', 'PrivateYes']],\n",
    "            hue='PrivateYes')\n",
    "plt.show()"
   ]
  },
  {
   "cell_type": "markdown",
   "id": "b35ddc7a",
   "metadata": {},
   "source": [
    "Небольшой вывод относительно графиков на главной диагонали. Пики разных цветов не совпадают, плотности не накладываются друг на друга. Значит, есть влияние этой объясняющей фиктивной переменной на взаимосвязи между непрервными переменными."
   ]
  },
  {
   "cell_type": "markdown",
   "id": "9199da53",
   "metadata": {},
   "source": [
    "Посмотрим на корреляционные матрицы непрерывных переменных фрейма. "
   ]
  },
  {
   "cell_type": "code",
   "execution_count": 16,
   "id": "fd276d8d",
   "metadata": {},
   "outputs": [
    {
     "data": {
      "text/html": [
       "<style  type=\"text/css\" >\n",
       "#T_0080c_row0_col0,#T_0080c_row1_col1,#T_0080c_row2_col2{\n",
       "            background-color:  #b40426;\n",
       "            color:  #f1f1f1;\n",
       "        }#T_0080c_row0_col1,#T_0080c_row1_col0,#T_0080c_row1_col2{\n",
       "            background-color:  #3b4cc0;\n",
       "            color:  #f1f1f1;\n",
       "        }#T_0080c_row0_col2{\n",
       "            background-color:  #c0d4f5;\n",
       "            color:  #000000;\n",
       "        }#T_0080c_row2_col0{\n",
       "            background-color:  #d9dce1;\n",
       "            color:  #000000;\n",
       "        }#T_0080c_row2_col1{\n",
       "            background-color:  #6788ee;\n",
       "            color:  #000000;\n",
       "        }</style><table id=\"T_0080c_\" ><thead>    <tr>        <th class=\"blank level0\" ></th>        <th class=\"col_heading level0 col0\" >Grad_Rate</th>        <th class=\"col_heading level0 col1\" >Accept</th>        <th class=\"col_heading level0 col2\" >Top10perc</th>    </tr></thead><tbody>\n",
       "                <tr>\n",
       "                        <th id=\"T_0080c_level0_row0\" class=\"row_heading level0 row0\" >Grad_Rate</th>\n",
       "                        <td id=\"T_0080c_row0_col0\" class=\"data row0 col0\" >1.00</td>\n",
       "                        <td id=\"T_0080c_row0_col1\" class=\"data row0 col1\" >0.07</td>\n",
       "                        <td id=\"T_0080c_row0_col2\" class=\"data row0 col2\" >0.52</td>\n",
       "            </tr>\n",
       "            <tr>\n",
       "                        <th id=\"T_0080c_level0_row1\" class=\"row_heading level0 row1\" >Accept</th>\n",
       "                        <td id=\"T_0080c_row1_col0\" class=\"data row1 col0\" >0.07</td>\n",
       "                        <td id=\"T_0080c_row1_col1\" class=\"data row1 col1\" >1.00</td>\n",
       "                        <td id=\"T_0080c_row1_col2\" class=\"data row1 col2\" >0.20</td>\n",
       "            </tr>\n",
       "            <tr>\n",
       "                        <th id=\"T_0080c_level0_row2\" class=\"row_heading level0 row2\" >Top10perc</th>\n",
       "                        <td id=\"T_0080c_row2_col0\" class=\"data row2 col0\" >0.52</td>\n",
       "                        <td id=\"T_0080c_row2_col1\" class=\"data row2 col1\" >0.20</td>\n",
       "                        <td id=\"T_0080c_row2_col2\" class=\"data row2 col2\" >1.00</td>\n",
       "            </tr>\n",
       "    </tbody></table>"
      ],
      "text/plain": [
       "<pandas.io.formats.style.Styler at 0x2abcf80a400>"
      ]
     },
     "execution_count": 16,
     "metadata": {},
     "output_type": "execute_result"
    }
   ],
   "source": [
    "# корреляционная матрица по всем наблюдениям\n",
    "corr_mat = DF[['Grad_Rate', 'Accept', 'Top10perc']].corr()\n",
    "corr_mat.style.background_gradient(cmap='coolwarm').set_precision(2)"
   ]
  },
  {
   "cell_type": "markdown",
   "id": "de885185",
   "metadata": {},
   "source": [
    "Посчитаем корреляционные матрицы для частных и государственных университетов."
   ]
  },
  {
   "cell_type": "code",
   "execution_count": 17,
   "id": "6d945191",
   "metadata": {},
   "outputs": [
    {
     "data": {
      "text/html": [
       "<style  type=\"text/css\" >\n",
       "#T_20f1e_row0_col0,#T_20f1e_row1_col1,#T_20f1e_row2_col2{\n",
       "            background-color:  #b40426;\n",
       "            color:  #f1f1f1;\n",
       "        }#T_20f1e_row0_col1,#T_20f1e_row1_col0,#T_20f1e_row1_col2{\n",
       "            background-color:  #3b4cc0;\n",
       "            color:  #f1f1f1;\n",
       "        }#T_20f1e_row0_col2{\n",
       "            background-color:  #8db0fe;\n",
       "            color:  #000000;\n",
       "        }#T_20f1e_row2_col0{\n",
       "            background-color:  #adc9fd;\n",
       "            color:  #000000;\n",
       "        }#T_20f1e_row2_col1{\n",
       "            background-color:  #5f7fe8;\n",
       "            color:  #000000;\n",
       "        }</style><table id=\"T_20f1e_\" ><thead>    <tr>        <th class=\"blank level0\" ></th>        <th class=\"col_heading level0 col0\" >Grad_Rate</th>        <th class=\"col_heading level0 col1\" >Accept</th>        <th class=\"col_heading level0 col2\" >Top10perc</th>    </tr></thead><tbody>\n",
       "                <tr>\n",
       "                        <th id=\"T_20f1e_level0_row0\" class=\"row_heading level0 row0\" >Grad_Rate</th>\n",
       "                        <td id=\"T_20f1e_row0_col0\" class=\"data row0 col0\" >1.00</td>\n",
       "                        <td id=\"T_20f1e_row0_col1\" class=\"data row0 col1\" >0.26</td>\n",
       "                        <td id=\"T_20f1e_row0_col2\" class=\"data row0 col2\" >0.51</td>\n",
       "            </tr>\n",
       "            <tr>\n",
       "                        <th id=\"T_20f1e_level0_row1\" class=\"row_heading level0 row1\" >Accept</th>\n",
       "                        <td id=\"T_20f1e_row1_col0\" class=\"data row1 col0\" >0.26</td>\n",
       "                        <td id=\"T_20f1e_row1_col1\" class=\"data row1 col1\" >1.00</td>\n",
       "                        <td id=\"T_20f1e_row1_col2\" class=\"data row1 col2\" >0.35</td>\n",
       "            </tr>\n",
       "            <tr>\n",
       "                        <th id=\"T_20f1e_level0_row2\" class=\"row_heading level0 row2\" >Top10perc</th>\n",
       "                        <td id=\"T_20f1e_row2_col0\" class=\"data row2 col0\" >0.51</td>\n",
       "                        <td id=\"T_20f1e_row2_col1\" class=\"data row2 col1\" >0.35</td>\n",
       "                        <td id=\"T_20f1e_row2_col2\" class=\"data row2 col2\" >1.00</td>\n",
       "            </tr>\n",
       "    </tbody></table>"
      ],
      "text/plain": [
       "<pandas.io.formats.style.Styler at 0x2abcfcc6af0>"
      ]
     },
     "execution_count": 17,
     "metadata": {},
     "output_type": "execute_result"
    }
   ],
   "source": [
    "# корреляционная матрица по классу частных университетов\n",
    "corr_mat = DF.loc[DF['PrivateYes'] == 1][['Grad_Rate', 'Accept', 'Top10perc']].corr()\n",
    "corr_mat.style.background_gradient(cmap='coolwarm').set_precision(2)"
   ]
  },
  {
   "cell_type": "code",
   "execution_count": 18,
   "id": "796b706e",
   "metadata": {},
   "outputs": [
    {
     "data": {
      "text/html": [
       "<style  type=\"text/css\" >\n",
       "#T_97567_row0_col0,#T_97567_row1_col1,#T_97567_row2_col2{\n",
       "            background-color:  #b40426;\n",
       "            color:  #f1f1f1;\n",
       "        }#T_97567_row0_col1{\n",
       "            background-color:  #4a63d3;\n",
       "            color:  #f1f1f1;\n",
       "        }#T_97567_row0_col2{\n",
       "            background-color:  #7ea1fa;\n",
       "            color:  #000000;\n",
       "        }#T_97567_row1_col0,#T_97567_row1_col2,#T_97567_row2_col1{\n",
       "            background-color:  #3b4cc0;\n",
       "            color:  #f1f1f1;\n",
       "        }#T_97567_row2_col0{\n",
       "            background-color:  #6e90f2;\n",
       "            color:  #000000;\n",
       "        }</style><table id=\"T_97567_\" ><thead>    <tr>        <th class=\"blank level0\" ></th>        <th class=\"col_heading level0 col0\" >Grad_Rate</th>        <th class=\"col_heading level0 col1\" >Accept</th>        <th class=\"col_heading level0 col2\" >Top10perc</th>    </tr></thead><tbody>\n",
       "                <tr>\n",
       "                        <th id=\"T_97567_level0_row0\" class=\"row_heading level0 row0\" >Grad_Rate</th>\n",
       "                        <td id=\"T_97567_row0_col0\" class=\"data row0 col0\" >1.00</td>\n",
       "                        <td id=\"T_97567_row0_col1\" class=\"data row0 col1\" >0.39</td>\n",
       "                        <td id=\"T_97567_row0_col2\" class=\"data row0 col2\" >0.49</td>\n",
       "            </tr>\n",
       "            <tr>\n",
       "                        <th id=\"T_97567_level0_row1\" class=\"row_heading level0 row1\" >Accept</th>\n",
       "                        <td id=\"T_97567_row1_col0\" class=\"data row1 col0\" >0.39</td>\n",
       "                        <td id=\"T_97567_row1_col1\" class=\"data row1 col1\" >1.00</td>\n",
       "                        <td id=\"T_97567_row1_col2\" class=\"data row1 col2\" >0.36</td>\n",
       "            </tr>\n",
       "            <tr>\n",
       "                        <th id=\"T_97567_level0_row2\" class=\"row_heading level0 row2\" >Top10perc</th>\n",
       "                        <td id=\"T_97567_row2_col0\" class=\"data row2 col0\" >0.49</td>\n",
       "                        <td id=\"T_97567_row2_col1\" class=\"data row2 col1\" >0.36</td>\n",
       "                        <td id=\"T_97567_row2_col2\" class=\"data row2 col2\" >1.00</td>\n",
       "            </tr>\n",
       "    </tbody></table>"
      ],
      "text/plain": [
       "<pandas.io.formats.style.Styler at 0x2abcfcc69a0>"
      ]
     },
     "execution_count": 18,
     "metadata": {},
     "output_type": "execute_result"
    }
   ],
   "source": [
    "# корреляционная матрица по классу государственных университетов\n",
    "corr_mat = DF.loc[DF['PrivateYes'] == 0][['Grad_Rate', 'Accept', 'Top10perc']].corr()\n",
    "corr_mat.style.background_gradient(cmap='coolwarm').set_precision(2)"
   ]
  },
  {
   "cell_type": "markdown",
   "id": "87eed455",
   "metadata": {},
   "source": [
    "На основании корреляционных матриц можно сделать вывод, что выпускной балл достаточно сильно зависит от количество принятых заявок на поступление, если университет является государственным. Если университет частный, то корреляция значительно меньше."
   ]
  },
  {
   "cell_type": "markdown",
   "id": "7ec23130",
   "metadata": {},
   "source": [
    "\n",
    "\n",
    "### Логарифмируем зависимую переменную  \n",
    "\n",
    "Важным допущением линейной регрессии является нормальность зависимой переменной. Чтобы добиться нормального распределения, используют логарифмирование либо преобразование Бокса-Кокса. В этой лабораторной остановимся на логарифмировании.   "
   ]
  },
  {
   "cell_type": "code",
   "execution_count": 19,
   "id": "740818a3",
   "metadata": {},
   "outputs": [
    {
     "data": {
      "text/html": [
       "<div>\n",
       "<style scoped>\n",
       "    .dataframe tbody tr th:only-of-type {\n",
       "        vertical-align: middle;\n",
       "    }\n",
       "\n",
       "    .dataframe tbody tr th {\n",
       "        vertical-align: top;\n",
       "    }\n",
       "\n",
       "    .dataframe thead th {\n",
       "        text-align: right;\n",
       "    }\n",
       "</style>\n",
       "<table border=\"1\" class=\"dataframe\">\n",
       "  <thead>\n",
       "    <tr style=\"text-align: right;\">\n",
       "      <th></th>\n",
       "      <th>Grad_Rate</th>\n",
       "      <th>Accept</th>\n",
       "      <th>Top10perc</th>\n",
       "    </tr>\n",
       "  </thead>\n",
       "  <tbody>\n",
       "    <tr>\n",
       "      <th>count</th>\n",
       "      <td>622.000000</td>\n",
       "      <td>622.000000</td>\n",
       "      <td>622.000000</td>\n",
       "    </tr>\n",
       "    <tr>\n",
       "      <th>mean</th>\n",
       "      <td>65.771704</td>\n",
       "      <td>2107.274920</td>\n",
       "      <td>27.824759</td>\n",
       "    </tr>\n",
       "    <tr>\n",
       "      <th>std</th>\n",
       "      <td>17.450809</td>\n",
       "      <td>2602.168187</td>\n",
       "      <td>18.406481</td>\n",
       "    </tr>\n",
       "    <tr>\n",
       "      <th>min</th>\n",
       "      <td>10.000000</td>\n",
       "      <td>90.000000</td>\n",
       "      <td>1.000000</td>\n",
       "    </tr>\n",
       "    <tr>\n",
       "      <th>25%</th>\n",
       "      <td>53.000000</td>\n",
       "      <td>589.750000</td>\n",
       "      <td>15.000000</td>\n",
       "    </tr>\n",
       "    <tr>\n",
       "      <th>50%</th>\n",
       "      <td>66.000000</td>\n",
       "      <td>1193.500000</td>\n",
       "      <td>23.000000</td>\n",
       "    </tr>\n",
       "    <tr>\n",
       "      <th>75%</th>\n",
       "      <td>78.000000</td>\n",
       "      <td>2569.500000</td>\n",
       "      <td>36.000000</td>\n",
       "    </tr>\n",
       "    <tr>\n",
       "      <th>max</th>\n",
       "      <td>118.000000</td>\n",
       "      <td>26330.000000</td>\n",
       "      <td>96.000000</td>\n",
       "    </tr>\n",
       "  </tbody>\n",
       "</table>\n",
       "</div>"
      ],
      "text/plain": [
       "        Grad_Rate        Accept   Top10perc\n",
       "count  622.000000    622.000000  622.000000\n",
       "mean    65.771704   2107.274920   27.824759\n",
       "std     17.450809   2602.168187   18.406481\n",
       "min     10.000000     90.000000    1.000000\n",
       "25%     53.000000    589.750000   15.000000\n",
       "50%     66.000000   1193.500000   23.000000\n",
       "75%     78.000000   2569.500000   36.000000\n",
       "max    118.000000  26330.000000   96.000000"
      ]
     },
     "execution_count": 19,
     "metadata": {},
     "output_type": "execute_result"
    }
   ],
   "source": [
    "# логарифмируем зависимую переменную\n",
    "DF['log_Grad_Rate'] = np.log(DF['Grad_Rate'])\n",
    "\n",
    "# описательные статистики для непрерывных показателей\n",
    "DF[['Grad_Rate', 'Accept', 'Top10perc']].describe()"
   ]
  },
  {
   "cell_type": "markdown",
   "id": "ae236ee5",
   "metadata": {},
   "source": [
    "Проведём формальные тесты на нормальность.  "
   ]
  },
  {
   "cell_type": "code",
   "execution_count": 20,
   "id": "c9d587ca",
   "metadata": {},
   "outputs": [
    {
     "name": "stdout",
     "output_type": "stream",
     "text": [
      "Grad_Rate Statistics=0.99, p=0.0117\n",
      "Распределение не нормально (H0 отклоняется)\n",
      "\n",
      "log_Grad_Rate Statistics=0.92, p=0.0000\n",
      "Распределение не нормально (H0 отклоняется)\n",
      "\n"
     ]
    }
   ],
   "source": [
    "# тестируем на нормальность\n",
    "for col in ['Grad_Rate', 'log_Grad_Rate']:\n",
    "    stat, p = shapiro(DF[col])\n",
    "    print(col, 'Statistics=%.2f, p=%.4f' % (stat, p))\n",
    "    # интерпретация\n",
    "    alpha = 0.05\n",
    "    if p > alpha:\n",
    "        print('Распределение нормально (H0 не отклоняется)\\n')\n",
    "    else:\n",
    "        print('Распределение не нормально (H0 отклоняется)\\n')"
   ]
  },
  {
   "cell_type": "markdown",
   "id": "8a3643a2",
   "metadata": {},
   "source": [
    "Логарифмирование меняет взаимосвязи между переменными.   "
   ]
  },
  {
   "cell_type": "code",
   "execution_count": 21,
   "id": "ca9e705f",
   "metadata": {},
   "outputs": [
    {
     "data": {
      "image/png": "[encoded data removed]",
      "text/plain": [
       "<Figure size 595.625x540 with 12 Axes>"
      ]
     },
     "metadata": {},
     "output_type": "display_data"
    }
   ],
   "source": [
    "# матричный график разброса с цветом по PrivateYes\n",
    "sns.pairplot(DF[['log_Grad_Rate','Accept', 'Top10perc', 'PrivateYes']],\n",
    "            hue='PrivateYes')\n",
    "plt.show()"
   ]
  },
  {
   "cell_type": "markdown",
   "id": "b55e689b",
   "metadata": {},
   "source": [
    "После логарифмирования переменная `Grad_Rate` (теперь `log_Grad_Rate`) по-прежнему не распределена нормально, но в некотрых местах есть изменения."
   ]
  },
  {
   "cell_type": "code",
   "execution_count": 22,
   "id": "a0734fbc",
   "metadata": {},
   "outputs": [
    {
     "data": {
      "text/html": [
       "<style  type=\"text/css\" >\n",
       "#T_756d1_row0_col0,#T_756d1_row1_col1,#T_756d1_row2_col2{\n",
       "            background-color:  #b40426;\n",
       "            color:  #f1f1f1;\n",
       "        }#T_756d1_row0_col1,#T_756d1_row1_col0,#T_756d1_row1_col2{\n",
       "            background-color:  #3b4cc0;\n",
       "            color:  #f1f1f1;\n",
       "        }#T_756d1_row0_col2{\n",
       "            background-color:  #abc8fd;\n",
       "            color:  #000000;\n",
       "        }#T_756d1_row2_col0{\n",
       "            background-color:  #c7d7f0;\n",
       "            color:  #000000;\n",
       "        }#T_756d1_row2_col1{\n",
       "            background-color:  #6384eb;\n",
       "            color:  #000000;\n",
       "        }</style><table id=\"T_756d1_\" ><thead>    <tr>        <th class=\"blank level0\" ></th>        <th class=\"col_heading level0 col0\" >log_Grad_Rate</th>        <th class=\"col_heading level0 col1\" >Accept</th>        <th class=\"col_heading level0 col2\" >Top10perc</th>    </tr></thead><tbody>\n",
       "                <tr>\n",
       "                        <th id=\"T_756d1_level0_row0\" class=\"row_heading level0 row0\" >log_Grad_Rate</th>\n",
       "                        <td id=\"T_756d1_row0_col0\" class=\"data row0 col0\" >1.00</td>\n",
       "                        <td id=\"T_756d1_row0_col1\" class=\"data row0 col1\" >0.08</td>\n",
       "                        <td id=\"T_756d1_row0_col2\" class=\"data row0 col2\" >0.47</td>\n",
       "            </tr>\n",
       "            <tr>\n",
       "                        <th id=\"T_756d1_level0_row1\" class=\"row_heading level0 row1\" >Accept</th>\n",
       "                        <td id=\"T_756d1_row1_col0\" class=\"data row1 col0\" >0.08</td>\n",
       "                        <td id=\"T_756d1_row1_col1\" class=\"data row1 col1\" >1.00</td>\n",
       "                        <td id=\"T_756d1_row1_col2\" class=\"data row1 col2\" >0.20</td>\n",
       "            </tr>\n",
       "            <tr>\n",
       "                        <th id=\"T_756d1_level0_row2\" class=\"row_heading level0 row2\" >Top10perc</th>\n",
       "                        <td id=\"T_756d1_row2_col0\" class=\"data row2 col0\" >0.47</td>\n",
       "                        <td id=\"T_756d1_row2_col1\" class=\"data row2 col1\" >0.20</td>\n",
       "                        <td id=\"T_756d1_row2_col2\" class=\"data row2 col2\" >1.00</td>\n",
       "            </tr>\n",
       "    </tbody></table>"
      ],
      "text/plain": [
       "<pandas.io.formats.style.Styler at 0x2abcfcf0b80>"
      ]
     },
     "execution_count": 22,
     "metadata": {},
     "output_type": "execute_result"
    }
   ],
   "source": [
    "# корреляционная матрица по всем наблюдениям\n",
    "corr_mat = DF[['log_Grad_Rate', 'Accept', 'Top10perc']].corr()\n",
    "corr_mat.style.background_gradient(cmap='coolwarm').set_precision(2)"
   ]
  },
  {
   "cell_type": "code",
   "execution_count": 23,
   "id": "789776bc",
   "metadata": {},
   "outputs": [
    {
     "data": {
      "text/html": [
       "<style  type=\"text/css\" >\n",
       "#T_bcfea_row0_col0,#T_bcfea_row1_col1,#T_bcfea_row2_col2{\n",
       "            background-color:  #b40426;\n",
       "            color:  #f1f1f1;\n",
       "        }#T_bcfea_row0_col1,#T_bcfea_row1_col0,#T_bcfea_row1_col2{\n",
       "            background-color:  #3b4cc0;\n",
       "            color:  #f1f1f1;\n",
       "        }#T_bcfea_row0_col2{\n",
       "            background-color:  #7396f5;\n",
       "            color:  #000000;\n",
       "        }#T_bcfea_row2_col0{\n",
       "            background-color:  #9bbcff;\n",
       "            color:  #000000;\n",
       "        }#T_bcfea_row2_col1{\n",
       "            background-color:  #6687ed;\n",
       "            color:  #000000;\n",
       "        }</style><table id=\"T_bcfea_\" ><thead>    <tr>        <th class=\"blank level0\" ></th>        <th class=\"col_heading level0 col0\" >log_Grad_Rate</th>        <th class=\"col_heading level0 col1\" >Accept</th>        <th class=\"col_heading level0 col2\" >Top10perc</th>    </tr></thead><tbody>\n",
       "                <tr>\n",
       "                        <th id=\"T_bcfea_level0_row0\" class=\"row_heading level0 row0\" >log_Grad_Rate</th>\n",
       "                        <td id=\"T_bcfea_row0_col0\" class=\"data row0 col0\" >1.00</td>\n",
       "                        <td id=\"T_bcfea_row0_col1\" class=\"data row0 col1\" >0.24</td>\n",
       "                        <td id=\"T_bcfea_row0_col2\" class=\"data row0 col2\" >0.46</td>\n",
       "            </tr>\n",
       "            <tr>\n",
       "                        <th id=\"T_bcfea_level0_row1\" class=\"row_heading level0 row1\" >Accept</th>\n",
       "                        <td id=\"T_bcfea_row1_col0\" class=\"data row1 col0\" >0.24</td>\n",
       "                        <td id=\"T_bcfea_row1_col1\" class=\"data row1 col1\" >1.00</td>\n",
       "                        <td id=\"T_bcfea_row1_col2\" class=\"data row1 col2\" >0.35</td>\n",
       "            </tr>\n",
       "            <tr>\n",
       "                        <th id=\"T_bcfea_level0_row2\" class=\"row_heading level0 row2\" >Top10perc</th>\n",
       "                        <td id=\"T_bcfea_row2_col0\" class=\"data row2 col0\" >0.46</td>\n",
       "                        <td id=\"T_bcfea_row2_col1\" class=\"data row2 col1\" >0.35</td>\n",
       "                        <td id=\"T_bcfea_row2_col2\" class=\"data row2 col2\" >1.00</td>\n",
       "            </tr>\n",
       "    </tbody></table>"
      ],
      "text/plain": [
       "<pandas.io.formats.style.Styler at 0x2abcfcf0d30>"
      ]
     },
     "execution_count": 23,
     "metadata": {},
     "output_type": "execute_result"
    }
   ],
   "source": [
    "# корреляционная матрица по классу частных университетов\n",
    "corr_mat = DF.loc[DF['PrivateYes'] == 1][['log_Grad_Rate', 'Accept', 'Top10perc']].corr()\n",
    "corr_mat.style.background_gradient(cmap='coolwarm').set_precision(2)"
   ]
  },
  {
   "cell_type": "code",
   "execution_count": 24,
   "id": "62da4c18",
   "metadata": {},
   "outputs": [
    {
     "data": {
      "text/html": [
       "<style  type=\"text/css\" >\n",
       "#T_278a0_row0_col0,#T_278a0_row1_col1,#T_278a0_row2_col2{\n",
       "            background-color:  #b40426;\n",
       "            color:  #f1f1f1;\n",
       "        }#T_278a0_row0_col1{\n",
       "            background-color:  #3c4ec2;\n",
       "            color:  #f1f1f1;\n",
       "        }#T_278a0_row0_col2{\n",
       "            background-color:  #5d7ce6;\n",
       "            color:  #000000;\n",
       "        }#T_278a0_row1_col0,#T_278a0_row1_col2,#T_278a0_row2_col1{\n",
       "            background-color:  #3b4cc0;\n",
       "            color:  #f1f1f1;\n",
       "        }#T_278a0_row2_col0{\n",
       "            background-color:  #5b7ae5;\n",
       "            color:  #000000;\n",
       "        }</style><table id=\"T_278a0_\" ><thead>    <tr>        <th class=\"blank level0\" ></th>        <th class=\"col_heading level0 col0\" >log_Grad_Rate</th>        <th class=\"col_heading level0 col1\" >Accept</th>        <th class=\"col_heading level0 col2\" >Top10perc</th>    </tr></thead><tbody>\n",
       "                <tr>\n",
       "                        <th id=\"T_278a0_level0_row0\" class=\"row_heading level0 row0\" >log_Grad_Rate</th>\n",
       "                        <td id=\"T_278a0_row0_col0\" class=\"data row0 col0\" >1.00</td>\n",
       "                        <td id=\"T_278a0_row0_col1\" class=\"data row0 col1\" >0.36</td>\n",
       "                        <td id=\"T_278a0_row0_col2\" class=\"data row0 col2\" >0.43</td>\n",
       "            </tr>\n",
       "            <tr>\n",
       "                        <th id=\"T_278a0_level0_row1\" class=\"row_heading level0 row1\" >Accept</th>\n",
       "                        <td id=\"T_278a0_row1_col0\" class=\"data row1 col0\" >0.36</td>\n",
       "                        <td id=\"T_278a0_row1_col1\" class=\"data row1 col1\" >1.00</td>\n",
       "                        <td id=\"T_278a0_row1_col2\" class=\"data row1 col2\" >0.36</td>\n",
       "            </tr>\n",
       "            <tr>\n",
       "                        <th id=\"T_278a0_level0_row2\" class=\"row_heading level0 row2\" >Top10perc</th>\n",
       "                        <td id=\"T_278a0_row2_col0\" class=\"data row2 col0\" >0.43</td>\n",
       "                        <td id=\"T_278a0_row2_col1\" class=\"data row2 col1\" >0.36</td>\n",
       "                        <td id=\"T_278a0_row2_col2\" class=\"data row2 col2\" >1.00</td>\n",
       "            </tr>\n",
       "    </tbody></table>"
      ],
      "text/plain": [
       "<pandas.io.formats.style.Styler at 0x2abcf81ba60>"
      ]
     },
     "execution_count": 24,
     "metadata": {},
     "output_type": "execute_result"
    }
   ],
   "source": [
    "# корреляционная матрица по классу государственных университетов\n",
    "corr_mat = DF.loc[DF['PrivateYes'] == 0][['log_Grad_Rate', 'Accept', 'Top10perc']].corr()\n",
    "corr_mat.style.background_gradient(cmap='coolwarm').set_precision(2)"
   ]
  },
  {
   "cell_type": "markdown",
   "id": "2fa32887",
   "metadata": {},
   "source": [
    "На основании этих корреляционных матриц можно сделать вывод, что связь между `log_Grad_Rate` и `Accept` для частных и государственных университетов стала слабее, чем была до логарифмирования. Поэтому ошибка модели будет больше на обучающей выборке с прологарифмированной зависимой переменной."
   ]
  },
  {
   "cell_type": "markdown",
   "id": "2291ad02",
   "metadata": {},
   "source": [
    "## Строим модели регрессии\n",
    "\n",
    "### Спецификация моделей  \n",
    "По итогам предварительного анализа данных можно предложить следующие спецификации линейных регрессионных моделей:  \n",
    "\n",
    "1. `fit_lm_1`: $\\hat{Grad\\_Rate} = \\hat{\\beta_0} + \\hat{\\beta_1} \\cdot PrivateYes + \\hat{\\beta_2} \\cdot Accept + \\hat{\\beta_3} \\cdot Top10perc$\n",
    "2. `fit_lm_2`: $\\hat{Grad\\_Rate} = \\hat{\\beta_0} + \\hat{\\beta_1} \\cdot PrivateYes + \\hat{\\beta_2} \\cdot Accept \\cdot PrivateYes + \\hat{\\beta_3} \\cdot Top10perc$\n",
    "3. `fit_lm_3`: $\\hat{Grad\\_Rate} = \\hat{\\beta_0} + \\hat{\\beta_1} \\cdot PrivateYes + \\hat{\\beta_2} \\cdot Top10perc \\cdot PrivateYes + \\hat{\\beta_3} \\cdot Accept$\n",
    "4. `fit_lm_4`: $\\hat{Grad\\_Rate} = \\hat{\\beta_0} + \\hat{\\beta_1} \\cdot PrivateYes + \\hat{\\beta_2} \\cdot Top10perc \\cdot PrivateYes + \\hat{\\beta_3} \\cdot Accept \\cdot PrivateYes$\n",
    "\n",
    "5. `fit_lm_1_log`: то же, что `fit_lm_1`, но для зависимой $\\hat{log\\_Grad\\_Rate}$  \n",
    "6. `fit_lm_2_log`: то же, что `fit_lm_2`, но для зависимой $\\hat{log\\_Grad\\_Rate}$\n",
    "7. `fit_lm_3_log`: то же, что `fit_lm_3`, но для зависимой $\\hat{log\\_Grad\\_Rate}$\n",
    "8. `fit_lm_4_log`: то же, что `fit_lm_4`, но для зависимой $\\hat{log\\_Grad\\_Rate}$\n",
    "\n",
    "Кроме того, добавим в сравнение модели зависимости `Grad_Rate` и `log_Grad_Rate` от всех объясняющих переменных: `fit_lm_0` и `fit_lm_0_log` соответственно.  \n",
    "\n",
    "\n",
    "### Обучение и интерпретация  \n",
    "\n",
    "Создаём матрицы значений объясняющих переменных ( $X$ ) и вектора значений зависимой ( $y$ ) для всех моделей.  "
   ]
  },
  {
   "cell_type": "code",
   "execution_count": 26,
   "id": "26c6e4f4",
   "metadata": {},
   "outputs": [],
   "source": [
    "# данные для моделей 1, 5\n",
    "df1 = DF[['Grad_Rate', 'PrivateYes', 'Accept', 'Top10perc']]\n",
    "\n",
    "# данные для моделей 2, 6\n",
    "df2 = DF[['Grad_Rate', 'PrivateYes', 'Accept', 'Top10perc']]\n",
    "df2.loc[:, 'Accept_PrivateYes'] = df2.loc[:, 'Accept'] * df2.loc[:, 'PrivateYes']\n",
    "df2 = df2.drop(['Accept'], axis=1)\n",
    "\n",
    "# данные для моделей 3, 7\n",
    "df3 = DF[['Grad_Rate', 'PrivateYes', 'Accept', 'Top10perc']]\n",
    "df3.loc[:, 'Top10perc_PrivateYes'] = df3.loc[:, 'Top10perc'] * df3.loc[:, 'PrivateYes'] \n",
    "df3 = df3.drop(['Top10perc'], axis=1)\n",
    "\n",
    "# данные для моделей 4, 8\n",
    "df4 = DF[['Grad_Rate', 'PrivateYes', 'Accept', 'Top10perc']]\n",
    "df4.loc[:, 'Accept_PrivateYes'] = df4.loc[:, 'Accept_PrivateYes'] = df4.loc[:, 'Accept'] * df4.loc[:, 'PrivateYes']\n",
    "df4.loc[:, 'Top10perc_PrivateYes'] = df4.loc[:, 'Top10perc_PrivateYes'] = df4.loc[:, 'Top10perc'] * df4.loc[:, 'PrivateYes'] \n",
    "df4 = df4.drop(['Accept', 'Top10perc'], axis=1)\n",
    "\n",
    "# данные для моделей 9, 10\n",
    "df0 = DF.drop(['log_Grad_Rate'], axis=1)"
   ]
  },
  {
   "cell_type": "markdown",
   "id": "f1ab8fd7",
   "metadata": {},
   "source": [
    "Проверка результатов."
   ]
  },
  {
   "cell_type": "code",
   "execution_count": 27,
   "id": "df8f6ed1",
   "metadata": {},
   "outputs": [
    {
     "data": {
      "text/html": [
       "<div>\n",
       "<style scoped>\n",
       "    .dataframe tbody tr th:only-of-type {\n",
       "        vertical-align: middle;\n",
       "    }\n",
       "\n",
       "    .dataframe tbody tr th {\n",
       "        vertical-align: top;\n",
       "    }\n",
       "\n",
       "    .dataframe thead th {\n",
       "        text-align: right;\n",
       "    }\n",
       "</style>\n",
       "<table border=\"1\" class=\"dataframe\">\n",
       "  <thead>\n",
       "    <tr style=\"text-align: right;\">\n",
       "      <th></th>\n",
       "      <th>Grad_Rate</th>\n",
       "      <th>Accept</th>\n",
       "      <th>Top10perc</th>\n",
       "      <th>PrivateYes</th>\n",
       "    </tr>\n",
       "  </thead>\n",
       "  <tbody>\n",
       "    <tr>\n",
       "      <th>25</th>\n",
       "      <td>48</td>\n",
       "      <td>1729</td>\n",
       "      <td>12</td>\n",
       "      <td>0</td>\n",
       "    </tr>\n",
       "    <tr>\n",
       "      <th>481</th>\n",
       "      <td>81</td>\n",
       "      <td>321</td>\n",
       "      <td>28</td>\n",
       "      <td>1</td>\n",
       "    </tr>\n",
       "    <tr>\n",
       "      <th>593</th>\n",
       "      <td>91</td>\n",
       "      <td>1798</td>\n",
       "      <td>46</td>\n",
       "      <td>1</td>\n",
       "    </tr>\n",
       "    <tr>\n",
       "      <th>56</th>\n",
       "      <td>75</td>\n",
       "      <td>3028</td>\n",
       "      <td>15</td>\n",
       "      <td>0</td>\n",
       "    </tr>\n",
       "    <tr>\n",
       "      <th>168</th>\n",
       "      <td>54</td>\n",
       "      <td>329</td>\n",
       "      <td>4</td>\n",
       "      <td>1</td>\n",
       "    </tr>\n",
       "  </tbody>\n",
       "</table>\n",
       "</div>"
      ],
      "text/plain": [
       "     Grad_Rate  Accept  Top10perc  PrivateYes\n",
       "25          48    1729         12           0\n",
       "481         81     321         28           1\n",
       "593         91    1798         46           1\n",
       "56          75    3028         15           0\n",
       "168         54     329          4           1"
      ]
     },
     "execution_count": 27,
     "metadata": {},
     "output_type": "execute_result"
    }
   ],
   "source": [
    "df0.head(5)"
   ]
  },
  {
   "cell_type": "code",
   "execution_count": 28,
   "id": "9c8760e9",
   "metadata": {},
   "outputs": [
    {
     "data": {
      "text/html": [
       "<div>\n",
       "<style scoped>\n",
       "    .dataframe tbody tr th:only-of-type {\n",
       "        vertical-align: middle;\n",
       "    }\n",
       "\n",
       "    .dataframe tbody tr th {\n",
       "        vertical-align: top;\n",
       "    }\n",
       "\n",
       "    .dataframe thead th {\n",
       "        text-align: right;\n",
       "    }\n",
       "</style>\n",
       "<table border=\"1\" class=\"dataframe\">\n",
       "  <thead>\n",
       "    <tr style=\"text-align: right;\">\n",
       "      <th></th>\n",
       "      <th>Grad_Rate</th>\n",
       "      <th>PrivateYes</th>\n",
       "      <th>Accept</th>\n",
       "      <th>Top10perc_PrivateYes</th>\n",
       "    </tr>\n",
       "  </thead>\n",
       "  <tbody>\n",
       "    <tr>\n",
       "      <th>25</th>\n",
       "      <td>48</td>\n",
       "      <td>0</td>\n",
       "      <td>1729</td>\n",
       "      <td>0</td>\n",
       "    </tr>\n",
       "    <tr>\n",
       "      <th>481</th>\n",
       "      <td>81</td>\n",
       "      <td>1</td>\n",
       "      <td>321</td>\n",
       "      <td>28</td>\n",
       "    </tr>\n",
       "    <tr>\n",
       "      <th>593</th>\n",
       "      <td>91</td>\n",
       "      <td>1</td>\n",
       "      <td>1798</td>\n",
       "      <td>46</td>\n",
       "    </tr>\n",
       "    <tr>\n",
       "      <th>56</th>\n",
       "      <td>75</td>\n",
       "      <td>0</td>\n",
       "      <td>3028</td>\n",
       "      <td>0</td>\n",
       "    </tr>\n",
       "    <tr>\n",
       "      <th>168</th>\n",
       "      <td>54</td>\n",
       "      <td>1</td>\n",
       "      <td>329</td>\n",
       "      <td>4</td>\n",
       "    </tr>\n",
       "  </tbody>\n",
       "</table>\n",
       "</div>"
      ],
      "text/plain": [
       "     Grad_Rate  PrivateYes  Accept  Top10perc_PrivateYes\n",
       "25          48           0    1729                     0\n",
       "481         81           1     321                    28\n",
       "593         91           1    1798                    46\n",
       "56          75           0    3028                     0\n",
       "168         54           1     329                     4"
      ]
     },
     "execution_count": 28,
     "metadata": {},
     "output_type": "execute_result"
    }
   ],
   "source": [
    "df3.head(5)"
   ]
  },
  {
   "cell_type": "markdown",
   "id": "32e29344",
   "metadata": {},
   "source": [
    "Построим модели от всех объясняющих переменных на всех наблюдениях `DF`, чтобы проинтерпретировать параметры. В модели для зависимой переменной `Grad_Rate` интерпретация стандартная:  \n",
    "\n",
    "1. Константа – базовый уровень зависимой переменной, когда все объясняющие равны 0.  \n",
    "2. Коэффициент при объясняющей переменной $X$ показывает, на сколько своих единиц измерения изменится $Y$, если $X$ увеличится на одну свою единицу измерения.  "
   ]
  },
  {
   "cell_type": "code",
   "execution_count": 29,
   "id": "530bd63c",
   "metadata": {},
   "outputs": [
    {
     "name": "stdout",
     "output_type": "stream",
     "text": [
      "модель fit_lm_0:\n",
      " константа  [42.683] \n",
      " объясняющие  ['Accept', 'Top10perc', 'PrivateYes'] \n",
      " коэффициенты  [[1.0000e-03 4.2000e-01 1.3108e+01]]\n"
     ]
    }
   ],
   "source": [
    "lm = skl_lm.LinearRegression()\n",
    "\n",
    "# модель со всеми объясняющими, y\n",
    "X = df0.drop(['Grad_Rate'], axis=1)\n",
    "y = df0.Grad_Rate.values.reshape(-1, 1)\n",
    "fit_lm_0 = lm.fit(X, y)\n",
    "print('модель fit_lm_0:\\n', \n",
    "      'константа ', np.around(fit_lm_0.intercept_, 3),\n",
    "      '\\n объясняющие ', list(X.columns.values),\n",
    "      '\\n коэффициенты ', np.around(fit_lm_0.coef_, 3))"
   ]
  },
  {
   "cell_type": "code",
   "execution_count": 30,
   "id": "00a1f48f",
   "metadata": {},
   "outputs": [
    {
     "data": {
      "text/plain": [
       "array([14.02463777])"
      ]
     },
     "execution_count": 30,
     "metadata": {},
     "output_type": "execute_result"
    }
   ],
   "source": [
    "# оценим MSE на обучающей\n",
    "# прогнозы\n",
    "y_pred = fit_lm_0.predict(X)\n",
    "MSE = sum((y - y_pred.reshape(-1, 1))**2) / len(y)\n",
    "np.sqrt(MSE)"
   ]
  },
  {
   "cell_type": "markdown",
   "id": "5323fd43",
   "metadata": {},
   "source": [
    "С интрпретацией модели на логарифме $Y$ дела обстоят сложнее:  \n",
    "1. Константу сначала надо экспоненциировать, далее интерпретировать как для обычной модели регрессии.  \n",
    "1. Коэффициент при $X$ нужно экспоненциировать, затем вычесть из получившегося числа 1, затем умножить на 100. Результат показывает, на сколько процентов изменится (увеличится, если коэффициент положительный, и уменьшится, если отрицательный) зависимая переменная, если $X$ увеличится на одну свою единицу измерения.  "
   ]
  },
  {
   "cell_type": "code",
   "execution_count": 31,
   "id": "a87419f1",
   "metadata": {},
   "outputs": [
    {
     "name": "stdout",
     "output_type": "stream",
     "text": [
      "модель fit_lm_0_log:\n",
      " константа  [3.769] \n",
      " объясняющие  ['Accept', 'Top10perc', 'PrivateYes'] \n",
      " коэффициенты  [[0.    0.007 0.214]]\n"
     ]
    }
   ],
   "source": [
    "# модель со всеми объясняющими, y_log\n",
    "X = df0.drop(['Grad_Rate'], axis=1)\n",
    "y = np.log(df0.Grad_Rate).values.reshape(-1, 1)\n",
    "fit_lm_0_log = lm.fit(X, y)\n",
    "print('модель fit_lm_0_log:\\n', \n",
    "      'константа ', np.around(fit_lm_0_log.intercept_, 3),\n",
    "      '\\n объясняющие ', list(X.columns.values),\n",
    "      '\\n коэффициенты ', np.around(fit_lm_0_log.coef_, 3))"
   ]
  },
  {
   "cell_type": "code",
   "execution_count": 32,
   "id": "5e800d8c",
   "metadata": {},
   "outputs": [
    {
     "data": {
      "text/plain": [
       "array([[ 0. ,  0.7, 23.9]])"
      ]
     },
     "execution_count": 32,
     "metadata": {},
     "output_type": "execute_result"
    }
   ],
   "source": [
    "# пересчёт коэффициентов для их интерпретации\n",
    "np.around((np.exp(fit_lm_0_log.coef_) - 1) * 100, 1)"
   ]
  },
  {
   "cell_type": "code",
   "execution_count": 33,
   "id": "33656c61",
   "metadata": {},
   "outputs": [
    {
     "data": {
      "text/plain": [
       "array([14.26585905])"
      ]
     },
     "execution_count": 33,
     "metadata": {},
     "output_type": "execute_result"
    }
   ],
   "source": [
    "# оценим MSE на обучающей\n",
    "# прогнозы\n",
    "y_pred = fit_lm_0_log.predict(X)\n",
    "MSE_log = sum((np.exp(y) - np.exp(y_pred).reshape(-1, 1))**2) / len(y)\n",
    "np.sqrt(MSE_log)"
   ]
  },
  {
   "cell_type": "code",
   "execution_count": 35,
   "id": "88b9515f",
   "metadata": {},
   "outputs": [
    {
     "name": "stdout",
     "output_type": "stream",
     "text": [
      "MSE_train модели для Grad_Rate меньше MSE_train модели для log(Grad_Rate) в  [1.035] раз\n"
     ]
    }
   ],
   "source": [
    "print('MSE_train модели для Grad_Rate меньше MSE_train',\n",
    "     'модели для log(Grad_Rate) в ', np.around(MSE_log / MSE, 3), 'раз')"
   ]
  },
  {
   "cell_type": "markdown",
   "id": "a5ef7768",
   "metadata": {},
   "source": [
    "Так происходит, так как корреляция стала меньше для объясняющих переменных и прологарифмированной зависимой."
   ]
  },
  {
   "cell_type": "markdown",
   "id": "ff9c277b",
   "metadata": {},
   "source": [
    "### Оценка точности\n",
    "\n",
    "#### LOOCV  \n",
    "\n",
    "Сделаем перекрёстную проверку точности моделей по одному наблюдению.  "
   ]
  },
  {
   "cell_type": "code",
   "execution_count": 36,
   "id": "856469ac",
   "metadata": {},
   "outputs": [
    {
     "name": "stdout",
     "output_type": "stream",
     "text": [
      "Расчёты методом LOOCV заняли 14.62 секунд\n"
     ]
    }
   ],
   "source": [
    "# LeaveOneOut CV\n",
    "loo = LeaveOneOut()\n",
    "\n",
    "# модели для y\n",
    "scores = list()\n",
    "# таймер\n",
    "tic = time.perf_counter()\n",
    "for df in [df0, df1, df2, df3, df4] :\n",
    "    loo.get_n_splits(df)\n",
    "    X = df.drop(['Grad_Rate'], axis=1)\n",
    "    y = df.Grad_Rate\n",
    "    score = cross_val_score(lm, X, y, cv=loo,\n",
    "                           scoring='neg_mean_squared_error').mean()    \n",
    "    scores.append(score)\n",
    "\n",
    "# таймер\n",
    "toc = time.perf_counter()\n",
    "print(f\"Расчёты методом LOOCV заняли {toc - tic:0.2f} секунд\")"
   ]
  },
  {
   "cell_type": "code",
   "execution_count": 37,
   "id": "14ec4244",
   "metadata": {},
   "outputs": [
    {
     "name": "stdout",
     "output_type": "stream",
     "text": [
      "Расчёты методом LOOCV заняли 17.88 секунд\n"
     ]
    }
   ],
   "source": [
    "# модели для y_log\n",
    "scores_log = list()\n",
    "# таймер\n",
    "tic = time.perf_counter()\n",
    "for df in [df0, df1, df2, df3, df4] :\n",
    "    loo.get_n_splits(df)\n",
    "    X = df.drop(['Grad_Rate'], axis=1)\n",
    "    y = np.log(df.Grad_Rate)\n",
    "    score = cross_val_score(lm, X, y, cv=loo, n_jobs=1,\n",
    "                            scoring='neg_mean_squared_error').mean()\n",
    "    scores_log.append(score)\n",
    "\n",
    "# таймер\n",
    "toc = time.perf_counter()\n",
    "print(f\"Расчёты методом LOOCV заняли {toc - tic:0.2f} секунд\")"
   ]
  },
  {
   "cell_type": "markdown",
   "id": "043d8f7f",
   "metadata": {},
   "source": [
    "Сравним ошибки для моделей на исходных значениях `Grad_Rate` с ошибками моделей на логарифме.  "
   ]
  },
  {
   "cell_type": "code",
   "execution_count": 38,
   "id": "935169a1",
   "metadata": {},
   "outputs": [
    {
     "data": {
      "text/plain": [
       "[-198.82235316963454,\n",
       " -198.82235316963457,\n",
       " -201.70068158399715,\n",
       " -206.31881419872968,\n",
       " -215.2773040938098]"
      ]
     },
     "execution_count": 38,
     "metadata": {},
     "output_type": "execute_result"
    }
   ],
   "source": [
    "# для проверки\n",
    "scores"
   ]
  },
  {
   "cell_type": "code",
   "execution_count": 39,
   "id": "4760ac9c",
   "metadata": {},
   "outputs": [
    {
     "data": {
      "text/plain": [
       "[198.82, 198.82, 201.7, 206.32, 215.28]"
      ]
     },
     "execution_count": 39,
     "metadata": {},
     "output_type": "execute_result"
    }
   ],
   "source": [
    "[np.around(-x, 2) for x in scores]"
   ]
  },
  {
   "cell_type": "code",
   "execution_count": 40,
   "id": "f03231f8",
   "metadata": {},
   "outputs": [
    {
     "data": {
      "text/plain": [
       "[0.067, 0.067, 0.068, 0.07, 0.073]"
      ]
     },
     "execution_count": 40,
     "metadata": {},
     "output_type": "execute_result"
    }
   ],
   "source": [
    "[np.around(-x, 3) for x in scores_log]"
   ]
  },
  {
   "cell_type": "markdown",
   "id": "5e8a2632",
   "metadata": {},
   "source": [
    "Определим самые точные модели отдельно на `Grad_Rate` и на `Grad_Rate`.  "
   ]
  },
  {
   "cell_type": "code",
   "execution_count": 41,
   "id": "42809c46",
   "metadata": {},
   "outputs": [
    {
     "name": "stdout",
     "output_type": "stream",
     "text": [
      "Наименьшая ошибка на тестовой с LOOCV у модели fit_lm_0 :\n",
      "MSE_loocv = 199.0\n"
     ]
    }
   ],
   "source": [
    "# самая точная на Grad_Rate\n",
    "fits = ['fit_lm_0', 'fit_lm_1', 'fit_lm_2', 'fit_lm_3', 'fit_lm_4']\n",
    "print('Наименьшая ошибка на тестовой с LOOCV у модели',\n",
    "      fits[scores.index(max(scores))], \n",
    "      ':\\nMSE_loocv =', np.around(-max(scores), 0))"
   ]
  },
  {
   "cell_type": "code",
   "execution_count": 42,
   "id": "b7ddcaad",
   "metadata": {},
   "outputs": [
    {
     "name": "stdout",
     "output_type": "stream",
     "text": [
      "Наименьшая ошибка на тестовой с LOOCV у модели fit_lm_1_log :\n",
      "MSE_loocv = 0.067\n"
     ]
    }
   ],
   "source": [
    "# самая точная на log(Grad_Rate)\n",
    "fits = ['fit_lm_0_log', 'fit_lm_1_log', 'fit_lm_2_log', \n",
    "        'fit_lm_3_log', 'fit_lm_4_log']\n",
    "print('Наименьшая ошибка на тестовой с LOOCV у модели',\n",
    "      fits[scores_log.index(max(scores_log))], \n",
    "      ':\\nMSE_loocv =', np.around(-max(scores_log), 3))"
   ]
  },
  {
   "cell_type": "markdown",
   "id": "ca3670f2",
   "metadata": {},
   "source": [
    "#### Перекрёстная проверка по блокам    \n",
    "\n",
    "Теоретически этот метод менее затратен, чем LOOCV. Проверим на наших моделях.   "
   ]
  },
  {
   "cell_type": "code",
   "execution_count": 43,
   "id": "bb2d9585",
   "metadata": {},
   "outputs": [
    {
     "name": "stdout",
     "output_type": "stream",
     "text": [
      "Расчёты методом CV по 10 блокам заняли 0.26 секунд\n"
     ]
    }
   ],
   "source": [
    "# Перекрёстная проверка по 10 блокам\n",
    "folds = 10\n",
    "\n",
    "# ядра для разбиений перекрёстной проверкой\n",
    "r_state = np.arange(my_seed, my_seed + 9)\n",
    "\n",
    "# модели для y\n",
    "scores = list()\n",
    "# таймер\n",
    "tic = time.perf_counter()\n",
    "i = 0\n",
    "for df in [df0, df1, df2, df3, df4] :\n",
    "    X = df.drop(['Grad_Rate'], axis=1)\n",
    "    y = df.Grad_Rate\n",
    "    kf_10 =  KFold(n_splits=folds, random_state=r_state[i],\n",
    "                 shuffle=True)    \n",
    "    score = cross_val_score(lm, X, y, cv=kf_10,\n",
    "                            scoring='neg_mean_squared_error').mean()\n",
    "    scores.append(score)\n",
    "    i+=1\n",
    "\n",
    "# таймер\n",
    "toc = time.perf_counter()\n",
    "print(f\"Расчёты методом CV по 10 блокам заняли {toc - tic:0.2f} секунд\")"
   ]
  },
  {
   "cell_type": "code",
   "execution_count": 44,
   "id": "121dd523",
   "metadata": {},
   "outputs": [
    {
     "name": "stdout",
     "output_type": "stream",
     "text": [
      "Расчёты методом CV по 10 блокам заняли 0.25 секунд\n"
     ]
    }
   ],
   "source": [
    "# Перекрёстная проверка по 10 блокам\n",
    "folds = 10\n",
    "\n",
    "# ядра для разбиений перекрёстной проверкой\n",
    "r_state = np.arange(my_seed, my_seed + 9)\n",
    "\n",
    "# модели для y\n",
    "scores_log = list()\n",
    "# таймер\n",
    "tic = time.perf_counter()\n",
    "i = 0\n",
    "for df in [df0, df1, df2, df3, df4] :\n",
    "    X = df.drop(['Grad_Rate'], axis=1)\n",
    "    y = np.log(df.Grad_Rate)\n",
    "    kf_10 = KFold(n_splits=folds, random_state=r_state[i],\n",
    "                 shuffle=True)\n",
    "    score = cross_val_score(lm, X, y, cv=kf_10,\n",
    "                            scoring='neg_mean_squared_error').mean()\n",
    "    scores_log.append(score)\n",
    "    i+=1\n",
    "\n",
    "# таймер\n",
    "toc = time.perf_counter()\n",
    "print(f\"Расчёты методом CV по 10 блокам заняли {toc - tic:0.2f} секунд\")"
   ]
  },
  {
   "cell_type": "markdown",
   "id": "141bf926",
   "metadata": {},
   "source": [
    "Сравним ошибки для моделей на исходных значениях `Grad_Rate` с ошибками моделей на логарифме.  "
   ]
  },
  {
   "cell_type": "code",
   "execution_count": 45,
   "id": "a043aa19",
   "metadata": {},
   "outputs": [
    {
     "data": {
      "text/plain": [
       "[-198.06466937266515,\n",
       " -198.6978708962285,\n",
       " -201.35770056121277,\n",
       " -206.31454494289773,\n",
       " -215.5358474659002]"
      ]
     },
     "execution_count": 45,
     "metadata": {},
     "output_type": "execute_result"
    }
   ],
   "source": [
    "# для проверки\n",
    "scores"
   ]
  },
  {
   "cell_type": "code",
   "execution_count": 46,
   "id": "8703500f",
   "metadata": {},
   "outputs": [
    {
     "data": {
      "text/plain": [
       "[198.06, 198.7, 201.36, 206.31, 215.54]"
      ]
     },
     "execution_count": 46,
     "metadata": {},
     "output_type": "execute_result"
    }
   ],
   "source": [
    "[np.around(-x, 2) for x in scores]"
   ]
  },
  {
   "cell_type": "code",
   "execution_count": 47,
   "id": "d683e3c4",
   "metadata": {},
   "outputs": [
    {
     "data": {
      "text/plain": [
       "[0.067, 0.067, 0.068, 0.07, 0.072]"
      ]
     },
     "execution_count": 47,
     "metadata": {},
     "output_type": "execute_result"
    }
   ],
   "source": [
    "[np.around(-x, 3) for x in scores_log]"
   ]
  },
  {
   "cell_type": "markdown",
   "id": "1debf09c",
   "metadata": {},
   "source": [
    "Определим самые точные модели отдельно на `Grad_Rate` и на `log(Grad_Rate)`.  "
   ]
  },
  {
   "cell_type": "code",
   "execution_count": 48,
   "id": "9f950766",
   "metadata": {},
   "outputs": [
    {
     "name": "stdout",
     "output_type": "stream",
     "text": [
      "Наименьшая ошибка на тестовой с k-fold10 у модели fit_lm_0 :\n",
      "MSE_kf10 = 198.0\n"
     ]
    }
   ],
   "source": [
    "# самая точная на Grad_Rate\n",
    "fits = ['fit_lm_0', 'fit_lm_1', 'fit_lm_2', 'fit_lm_3', 'fit_lm_4']\n",
    "print('Наименьшая ошибка на тестовой с k-fold10 у модели',\n",
    "      fits[scores.index(max(scores))], \n",
    "      ':\\nMSE_kf10 =', np.around(-max(scores), 0))"
   ]
  },
  {
   "cell_type": "code",
   "execution_count": 49,
   "id": "19ce9627",
   "metadata": {},
   "outputs": [
    {
     "name": "stdout",
     "output_type": "stream",
     "text": [
      "Наименьшая ошибка на тестовой с k-fold10 у модели fit_lm_0_log :\n",
      "MSE_kf10 = 0.067\n"
     ]
    }
   ],
   "source": [
    "# самая точная на log(Grad_Rate)\n",
    "fits = ['fit_lm_0_log', 'fit_lm_1_log', 'fit_lm_2_log', \n",
    "        'fit_lm_3_log', 'fit_lm_4_log']\n",
    "print('Наименьшая ошибка на тестовой с k-fold10 у модели',\n",
    "      fits[scores_log.index(max(scores_log))], \n",
    "      ':\\nMSE_kf10 =', np.around(-max(scores_log), 3))"
   ]
  },
  {
   "cell_type": "markdown",
   "id": "d42eba63",
   "metadata": {},
   "source": [
    "Можно убедиться, что оценка MSE методом перекрёстной проверки по 10 блокам даёт результаты, практически идентичные методу LOOCV. При этом скорость у второго метода значительно быстрее. "
   ]
  },
  {
   "cell_type": "markdown",
   "id": "185d5d22",
   "metadata": {},
   "source": [
    "Самой точной среди моделей для `Grad_Rate` оказалась `fit_lm_0`, а среди моделей для `Grad_Rate_log` – `fit_lm_0_log`. Оценим точность прогноза по этим моделям на отложенные наблюдения.   "
   ]
  },
  {
   "cell_type": "code",
   "execution_count": 50,
   "id": "af93739e",
   "metadata": {},
   "outputs": [
    {
     "name": "stdout",
     "output_type": "stream",
     "text": [
      "MSE модели fit_lm_0 на отложенных наблюдениях = 205.27\n"
     ]
    }
   ],
   "source": [
    "# прогноз по fit_lm_0\n",
    "#  модель на всех обучающих наблюдениях\n",
    "X = df0.drop(['Grad_Rate'], axis=1)\n",
    "y = df0.Grad_Rate.values.reshape(-1, 1)\n",
    "fit_lm_0 = lm.fit(X, y)\n",
    "\n",
    "#  значения y на отложенных наблюдениях\n",
    "y = DF_predict[['Grad_Rate']].values.reshape(-1, 1)\n",
    "#  матрица объясняющих на отложенных наблюдениях\n",
    "X = DF_predict.drop(['Grad_Rate'], axis=1)\n",
    "#  прогнозы\n",
    "y_pred = fit_lm_0.predict(X)\n",
    "\n",
    "# ошибка\n",
    "MSE = sum((y - y_pred.reshape(-1, 1))**2) / len(y)\n",
    "print('MSE модели fit_lm_0 на отложенных наблюдениях = %.2f' % MSE)"
   ]
  },
  {
   "cell_type": "code",
   "execution_count": 51,
   "id": "f714e587",
   "metadata": {},
   "outputs": [
    {
     "name": "stdout",
     "output_type": "stream",
     "text": [
      "MSE модели fit_lm_0_log на отложенных наблюдениях = 205.47\n"
     ]
    }
   ],
   "source": [
    "# прогноз по fit_lm_log_0\n",
    "# модель\n",
    "X = df0.drop(['Grad_Rate'], axis=1)\n",
    "y = np.log(df0.Grad_Rate).values.reshape(-1, 1)\n",
    "fit_lm_0_log = lm.fit(X, y)\n",
    "\n",
    "#  значения y на отложенных наблюдениях\n",
    "y = np.log(DF_predict[['Grad_Rate']].values.reshape(-1, 1))\n",
    "#  матрица объясняющих на отложенных наблюдениях\n",
    "X = DF_predict.drop(['Grad_Rate'], axis=1)\n",
    "\n",
    "#  прогнозы\n",
    "y_pred = fit_lm_0_log.predict(X)\n",
    "\n",
    "# ошибка\n",
    "MSE_log = sum((np.exp(y) - np.exp(y_pred).reshape(-1, 1))**2) / len(y)\n",
    "print('MSE модели fit_lm_0_log на отложенных наблюдениях = %.2f' % MSE_log)"
   ]
  },
  {
   "cell_type": "code",
   "execution_count": 52,
   "id": "0344044a",
   "metadata": {},
   "outputs": [
    {
     "data": {
      "text/plain": [
       "Grad_Rate    22.3\n",
       "dtype: float64"
      ]
     },
     "execution_count": 52,
     "metadata": {},
     "output_type": "execute_result"
    }
   ],
   "source": [
    "np.around(np.sqrt(MSE) / np.mean(DF_predict[['Grad_Rate']]) * 100, 1)"
   ]
  },
  {
   "cell_type": "code",
   "execution_count": 53,
   "id": "73f9d049",
   "metadata": {},
   "outputs": [
    {
     "data": {
      "text/plain": [
       "Grad_Rate    22.3\n",
       "dtype: float64"
      ]
     },
     "execution_count": 53,
     "metadata": {},
     "output_type": "execute_result"
    }
   ],
   "source": [
    "np.around(np.sqrt(MSE_log) / np.mean(DF_predict[['Grad_Rate']]) * 100, 1)"
   ]
  },
  {
   "cell_type": "markdown",
   "id": "ea39ca0a",
   "metadata": {},
   "source": [
    "Модели похожи между собой,  но на выборке для прогноза чуть точнее модель `fit_lm_0`."
   ]
  },
  {
   "cell_type": "code",
   "execution_count": 54,
   "id": "5b260d66",
   "metadata": {},
   "outputs": [
    {
     "name": "stdout",
     "output_type": "stream",
     "text": [
      "модель fit_lm_0:\n",
      " константа  [3.76937] \n",
      " объясняющие  ['Accept', 'Top10perc', 'PrivateYes'] \n",
      " коэффициенты  [[2.0000e-05 6.6100e-03 2.1424e-01]]\n"
     ]
    }
   ],
   "source": [
    "print('модель fit_lm_0:\\n', \n",
    "      'константа ', np.around(fit_lm_0.intercept_, 5),\n",
    "      '\\n объясняющие ', list(df0.drop(['Grad_Rate'], axis=1).columns.values),\n",
    "      '\\n коэффициенты ', np.around(fit_lm_0.coef_, 5))"
   ]
  },
  {
   "cell_type": "markdown",
   "id": "dfa41fa4",
   "metadata": {},
   "source": [
    "## Вывод:\n",
    "\n",
    "$ Y = 3,76937 + 0,00002 \\cdot Accept + 0,00661 \\cdot Top10perc + 0,21424 \\cdot PrivateYes $\n",
    "\n",
    "* Ошибка модели на отложенных наблюдениях составила 22.3% от среднего значения `Y`.\n",
    "* При объясняющих переменных, равных 0, `Y` равен константе 3,76937.\n",
    "* При увеличении `Accept` на единицу, `Y` увеличится на 0,00002. При увеличении `Top10perc` на единицу, `Y` увеличится на 0,00661. При значении дискретной переменной `PrivateYes` = 1, `Y` увеличится на 0,21424.\n",
    "\n",
    "Проверим нашу модель на выборке."
   ]
  },
  {
   "cell_type": "code",
   "execution_count": 55,
   "id": "32f3230e",
   "metadata": {},
   "outputs": [
    {
     "data": {
      "text/html": [
       "<div>\n",
       "<style scoped>\n",
       "    .dataframe tbody tr th:only-of-type {\n",
       "        vertical-align: middle;\n",
       "    }\n",
       "\n",
       "    .dataframe tbody tr th {\n",
       "        vertical-align: top;\n",
       "    }\n",
       "\n",
       "    .dataframe thead th {\n",
       "        text-align: right;\n",
       "    }\n",
       "</style>\n",
       "<table border=\"1\" class=\"dataframe\">\n",
       "  <thead>\n",
       "    <tr style=\"text-align: right;\">\n",
       "      <th></th>\n",
       "      <th>Grad_Rate</th>\n",
       "      <th>Accept</th>\n",
       "      <th>Top10perc</th>\n",
       "      <th>PrivateYes</th>\n",
       "    </tr>\n",
       "  </thead>\n",
       "  <tbody>\n",
       "    <tr>\n",
       "      <th>1</th>\n",
       "      <td>56</td>\n",
       "      <td>1924</td>\n",
       "      <td>16</td>\n",
       "      <td>1</td>\n",
       "    </tr>\n",
       "    <tr>\n",
       "      <th>2</th>\n",
       "      <td>54</td>\n",
       "      <td>1097</td>\n",
       "      <td>22</td>\n",
       "      <td>1</td>\n",
       "    </tr>\n",
       "    <tr>\n",
       "      <th>5</th>\n",
       "      <td>55</td>\n",
       "      <td>479</td>\n",
       "      <td>38</td>\n",
       "      <td>1</td>\n",
       "    </tr>\n",
       "    <tr>\n",
       "      <th>8</th>\n",
       "      <td>80</td>\n",
       "      <td>839</td>\n",
       "      <td>30</td>\n",
       "      <td>1</td>\n",
       "    </tr>\n",
       "    <tr>\n",
       "      <th>17</th>\n",
       "      <td>59</td>\n",
       "      <td>908</td>\n",
       "      <td>19</td>\n",
       "      <td>1</td>\n",
       "    </tr>\n",
       "    <tr>\n",
       "      <th>21</th>\n",
       "      <td>70</td>\n",
       "      <td>4664</td>\n",
       "      <td>20</td>\n",
       "      <td>0</td>\n",
       "    </tr>\n",
       "    <tr>\n",
       "      <th>26</th>\n",
       "      <td>88</td>\n",
       "      <td>1700</td>\n",
       "      <td>23</td>\n",
       "      <td>1</td>\n",
       "    </tr>\n",
       "    <tr>\n",
       "      <th>30</th>\n",
       "      <td>69</td>\n",
       "      <td>725</td>\n",
       "      <td>21</td>\n",
       "      <td>1</td>\n",
       "    </tr>\n",
       "    <tr>\n",
       "      <th>31</th>\n",
       "      <td>71</td>\n",
       "      <td>798</td>\n",
       "      <td>42</td>\n",
       "      <td>1</td>\n",
       "    </tr>\n",
       "    <tr>\n",
       "      <th>32</th>\n",
       "      <td>48</td>\n",
       "      <td>556</td>\n",
       "      <td>16</td>\n",
       "      <td>1</td>\n",
       "    </tr>\n",
       "  </tbody>\n",
       "</table>\n",
       "</div>"
      ],
      "text/plain": [
       "    Grad_Rate  Accept  Top10perc  PrivateYes\n",
       "1          56    1924         16           1\n",
       "2          54    1097         22           1\n",
       "5          55     479         38           1\n",
       "8          80     839         30           1\n",
       "17         59     908         19           1\n",
       "21         70    4664         20           0\n",
       "26         88    1700         23           1\n",
       "30         69     725         21           1\n",
       "31         71     798         42           1\n",
       "32         48     556         16           1"
      ]
     },
     "execution_count": 55,
     "metadata": {},
     "output_type": "execute_result"
    }
   ],
   "source": [
    "DF_predict.head(10)"
   ]
  },
  {
   "cell_type": "code",
   "execution_count": 56,
   "id": "50ab7661",
   "metadata": {},
   "outputs": [
    {
     "data": {
      "text/plain": [
       "array([[61.75052163],\n",
       "       [63.32405756],\n",
       "       [69.6299172 ],\n",
       "       [66.46157168],\n",
       "       [61.87531298],\n",
       "       [53.69581482],\n",
       "       [64.42146441],\n",
       "       [62.49793233],\n",
       "       [71.89650302],\n",
       "       [60.28719031]])"
      ]
     },
     "execution_count": 56,
     "metadata": {},
     "output_type": "execute_result"
    }
   ],
   "source": [
    "y_pred = fit_lm_0.predict(X[:10])\n",
    "np.exp(y_pred)"
   ]
  },
  {
   "cell_type": "markdown",
   "id": "809fbd81",
   "metadata": {},
   "source": [
    "## Вывод:\n",
    "Модель довольно близко спрогназировала значения."
   ]
  },
  {
   "cell_type": "markdown",
   "id": "af39298f",
   "metadata": {},
   "source": [
    "# Источники \n",
    "\n",
    "1. *James G., Witten D., Hastie T. and Tibshirani R.*  An Introduction to Statistical Learning with Applications in R. URL: [http://www-bcf.usc.edu/~gareth/ISL/ISLR%20First%20Printing.pdf](https://drive.google.com/file/d/15PdWDMf9hkfP8mrCzql_cNiX2eckLDRw/view?usp=sharing)     \n",
    "1. Рашка С. Python и машинное обучение: крайне необходимое пособие по новейшей предсказательной аналитике, обязательное для более глубокого понимания методологии машинного обучения / пер. с англ. А.В. Логунова. – М.: ДМК Пресс, 2017. – 418 с.: ил.\n",
    "1. Interpreting Log Transformations in a Linear Model / virginia.edu. URL: <https://data.library.virginia.edu/interpreting-log-transformations-in-a-linear-model/>  \n",
    "1. Python Timer Functions: Three Ways to Monitor Your Code / realpython.com. URL: <https://realpython.com/python-timer/>  "
   ]
  }
 ],
 "metadata": {
  "kernelspec": {
   "display_name": "Python 3",
   "language": "python",
   "name": "python3"
  },
  "language_info": {
   "codemirror_mode": {
    "name": "ipython",
    "version": 3
   },
   "file_extension": ".py",
   "mimetype": "text/x-python",
   "name": "python",
   "nbconvert_exporter": "python",
   "pygments_lexer": "ipython3",
   "version": "3.8.8"
  }
 },
 "nbformat": 4,
 "nbformat_minor": 5
}
