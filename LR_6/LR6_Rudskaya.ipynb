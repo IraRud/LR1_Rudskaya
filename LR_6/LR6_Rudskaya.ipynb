{
 "cells": [
  {
   "cell_type": "markdown",
   "id": "6b8b1c8d",
   "metadata": {},
   "source": [
    "`Дисциплина: Методы и технологии машинного обучения`   \n",
    "`Уровень подготовки: бакалавриат`   \n",
    "`Направление подготовки: 01.03.02 Прикладная математика и информатика`   \n",
    "`Семестр: осень 2021/2022\n",
    " Выпонила: Рудская Ирина\n",
    " Вариант №17`"
   ]
  },
  {
   "cell_type": "code",
   "execution_count": 1,
   "id": "8c915500",
   "metadata": {},
   "outputs": [
    {
     "data": {
      "text/html": [
       "<style>.container { width:80% !important; }</style>"
      ],
      "text/plain": [
       "<IPython.core.display.HTML object>"
      ]
     },
     "metadata": {},
     "output_type": "display_data"
    }
   ],
   "source": [
    "# настройка ширины страницы блокнота .......................................\n",
    "from IPython.core.display import display, HTML\n",
    "display(HTML(\"<style>.container { width:80% !important; }</style>\"))"
   ]
  },
  {
   "cell_type": "markdown",
   "id": "1fc5c8ab",
   "metadata": {},
   "source": [
    "# Лабораторная работа №6: Машины опорных векторов  \n",
    "\n",
    "В практических примерах ниже показано:   \n",
    "\n",
    "* как классифицировать данные с помощью модели SVM    \n",
    "* как использовать конвейеры для подгонки модели и применения её к новым данным\n",
    "\n",
    "Точность всех моделей оценивается методом перекрёстной проверки по 5 блокам.  \n",
    "\n",
    "*Модели*: SVM \n",
    "\n",
    "*Данные*: `default_of_credit_card_clients` \n",
    "\n",
    "*Источник*: https://github.com/aksyuk/MTML/blob/main/Labs/data/default_of_credit_card_clients.csv"
   ]
  },
  {
   "cell_type": "markdown",
   "id": "61b9ab5d",
   "metadata": {},
   "source": [
    "# Указания к выполнению\n",
    "\n",
    "\n",
    "## Загружаем пакеты"
   ]
  },
  {
   "cell_type": "code",
   "execution_count": 2,
   "id": "c8fa189c",
   "metadata": {},
   "outputs": [],
   "source": [
    "# загрузка пакетов: инструменты --------------------------------------------\n",
    "# работа с массивами\n",
    "import numpy as np\n",
    "# фреймы данных\n",
    "import pandas as pd\n",
    "# графики\n",
    "import matplotlib as mpl\n",
    "# стили и шаблоны графиков на основе matplotlib\n",
    "import seaborn as sns\n",
    "# перекодировка символьных показателей\n",
    "from sklearn.preprocessing import LabelEncoder\n",
    "# для таймера\n",
    "import time\n",
    "# для форматирования результатов с помощью Markdown\n",
    "from IPython.display import Markdown, display\n",
    "# перекодировка категориальных переменных\n",
    "from sklearn.preprocessing import OrdinalEncoder, OneHotEncoder\n",
    "# хи-квадрат тест на независимость по таблице сопряжённости\n",
    "from scipy.stats import chi2_contingency\n",
    "\n",
    "# загрузка пакетов: модели -------------------------------------------------\n",
    "# SVM\n",
    "from sklearn.svm import SVC\n",
    "# логистическая рагрессия\n",
    "from sklearn.linear_model import LogisticRegression\n",
    "# стандартизация\n",
    "from sklearn.preprocessing import StandardScaler\n",
    "# метод главных компонент\n",
    "from sklearn.decomposition import PCA\n",
    "# конвейеры\n",
    "from sklearn.pipeline import make_pipeline\n",
    "# перекрёстная проверка и метод проверочной выборки\n",
    "from sklearn.model_selection import cross_val_score, train_test_split\n",
    "# для перекрёстной проверки и сеточного поиска\n",
    "from sklearn.model_selection import KFold, GridSearchCV\n",
    "# сводка по точности классификации\n",
    "from sklearn.metrics import classification_report\n",
    "\n",
    "# загрузка пакетов: данные -------------------------------------------------\n",
    "from sklearn import datasets\n",
    "from sklearn.neighbors import KNeighborsClassifier\n",
    "from sklearn.pipeline import Pipeline\n",
    "\n",
    "# загрузка пакетов: модели -------------------------------------------------\n",
    "#  дерево классификации\n",
    "from sklearn.tree import DecisionTreeClassifier, export_text, plot_tree\n",
    "# перекрёстная проверка и метод проверочной выборки\n",
    "from sklearn.model_selection import cross_val_score, train_test_split\n",
    "# для перекрёстной проверки и сеточного поиска\n",
    "from sklearn.model_selection import KFold, GridSearchCV\n",
    "# бэггинг\n",
    "from sklearn.ensemble import BaggingClassifier\n",
    "# случайный лес\n",
    "from sklearn.ensemble import RandomForestClassifier\n",
    "# бустинг\n",
    "from sklearn.ensemble import GradientBoostingClassifier\n",
    "#  сводка по точности классификации\n",
    "from sklearn.metrics import classification_report"
   ]
  },
  {
   "cell_type": "code",
   "execution_count": 3,
   "id": "43a4a48e",
   "metadata": {},
   "outputs": [],
   "source": [
    "# константы\n",
    "# ядро для генератора случайных чисел\n",
    "my_seed = 17\n",
    "# создаём псевдоним для короткого обращения к графикам\n",
    "plt = mpl.pyplot\n",
    "# настройка стиля и отображения графиков\n",
    "# примеры стилей и шаблонов графиков: \n",
    "# http://tonysyu.github.io/raw_content/matplotlib-style-gallery/gallery.html\n",
    "mpl.style.use('seaborn-whitegrid')\n",
    "sns.set_palette(\"Set2\")\n",
    "# раскомментируйте следующую строку, чтобы посмотреть палитру\n",
    "# sns.color_palette(\"Set2\")"
   ]
  },
  {
   "cell_type": "code",
   "execution_count": 4,
   "id": "f0c3f868",
   "metadata": {},
   "outputs": [],
   "source": [
    "# функция форматирования результатов с использованием Markdown\n",
    "def printmd(string):\n",
    "    display(Markdown(string))\n",
    "    \n",
    "# функции для попарной конкатенации элементов двух списков\n",
    "concat_func_md = lambda x, y: '`' + str(x) + \"`:&ensp;&ensp;&ensp;&ensp;\" + str(y)\n",
    "concat_func = lambda x, y: str(x) + ' ' * 4 + str(y)\n",
    "\n",
    "\n",
    "# функция, которая строит график важности признаков в модели случайного леса\n",
    "#  источник: https://www.analyseup.com/learn-python-for-data-science/python-random-forest-feature-importance-plot.html\n",
    "def plot_feature_importance(importance, names, model_type) :\n",
    "    #Create arrays from feature importance and feature names\n",
    "    feature_importance = np.array(importance)\n",
    "    feature_names = np.array(names)\n",
    "\n",
    "    #Create a DataFrame using a Dictionary\n",
    "    data={'feature_names':feature_names,'feature_importance':feature_importance}\n",
    "    fi_df = pd.DataFrame(data)\n",
    "\n",
    "    #Sort the DataFrame in order decreasing feature importance\n",
    "    fi_df.sort_values(by=['feature_importance'], ascending=False,\n",
    "                      inplace=True)\n",
    "\n",
    "    #Define size of bar plot\n",
    "    plt.figure(figsize=(10,8))\n",
    "    #Plot Searborn bar chart\n",
    "    sns.barplot(x=fi_df['feature_importance'], y=fi_df['feature_names'])\n",
    "    #Add chart labels\n",
    "    plt.title('Важность признаков в модели: ' + model_type)\n",
    "    plt.xlabel('Важность признака')\n",
    "    plt.ylabel('')"
   ]
  },
  {
   "cell_type": "markdown",
   "id": "87618f1b",
   "metadata": {},
   "source": [
    "## Загружаем данные\n",
    "\n",
    "Данные по кредитам 30000 клиентов банков Тайваня (статистика 2005 года). Задача: спрогнозировать дефолт платежа в следущем месяце по статистике за 6 предыдущих месяцев и по общим сведениям о клиенте. Источник данных: статья Yeh, I. C., & Lien, C. H. The comparisons of data mining techniques for the predictive accuracy of probability of default of credit card clients. Expert Systems with Applications, 36(2), 2473-2480. Набор данных был загружен из репозитория UCI (https://archive.ics.uci.edu/ml/datasets/default+of+credit+card+clients) 12.10.2021.\n",
    "\n",
    "* `LIMIT_BAL` – размер выданного кредита (новых тайваньских долларов);\n",
    "* `SEX` – пол: 1 = мужской, 2 = женский;\n",
    "* `EDUCATION` – образование: 1 = аспирантура, 2 = университет, 3 = старшая школа, 4 = другое;\n",
    "* `MARRIAGE` – семейное положение: 1 = женат/замужем, 2 = одинок, 3 = другое;\n",
    "* `AGE` – возраст, лет;\n",
    "* `PAY_0`, `PAY_2`, ..., `PAY_6` – статус последних ежемесячных платежей, с сентября (`PAY_0`) по апрель (`PAY_6`) 2005 года: -1 = платёж внесён вовремя, 1 = платёж внесён с опозданием на 1 месяц; 2 = с опозданием на 2 месяца, и т.д., 9 = с опозданием на 9 месяцев и более;\n",
    "* `BILL_AMT1`, ..., `BILL_AMT6` – размер последних ежемесячных платежей (новых тайваньских долларов), с сентября (`BILL_AMT1`) по апрель (`BILL_AMT6`) 2005 года;\n",
    "* `PAY_AMT1`, ..., `PAY_AMT6` – размер ежемесячных платежей в предыдущем месяце (новых тайваньских долларов), с сентября (`PAY_AMT1` за август) по апрель (`PAY_AMT6` за март) 2005 года;\n",
    "* `Y` – целевая переменная: дефолт в следующем месяце (1 – да, 0 – нет).\n",
    "\n",
    "Зависимая переменная: `Y`\n",
    "\n",
    "Объясняющие переменные все, кроме: \n",
    "`Y`,`PAY_4`, `PAY_5`, `PAY_6`, `BILL_AMT4`, `BILL_AMT5`, `BILL_AMT6`, `PAY_AMT1`, ..., `PAY_AMT6`\n",
    "\n",
    "\n",
    "Загружаем данные во фрейм и выясняем их размерность.  "
   ]
  },
  {
   "cell_type": "code",
   "execution_count": 5,
   "id": "26b18c99",
   "metadata": {},
   "outputs": [
    {
     "name": "stdout",
     "output_type": "stream",
     "text": [
      "Число строк и столбцов в наборе данных:\n",
      " (30000, 24)\n"
     ]
    }
   ],
   "source": [
    "# загружаем данные\n",
    "DF_all = pd.read_csv('https://raw.githubusercontent.com/aksyuk/MTML/main/Labs/data/default_of_credit_card_clients.csv')\n",
    "\n",
    "# выясняем размерность фрейма\n",
    "print('Число строк и столбцов в наборе данных:\\n', DF_all.shape)"
   ]
  },
  {
   "cell_type": "code",
   "execution_count": 6,
   "id": "0faf9bc0",
   "metadata": {},
   "outputs": [],
   "source": [
    "# выбираем нужные значения\n",
    "DF_raw = DF_all.drop([\"PAY_4\", \"PAY_5\", \"PAY_6\", \"BILL_AMT4\", \"BILL_AMT5\", \"BILL_AMT6\", \n",
    "                      \"PAY_AMT1\", \"PAY_AMT2\", \"PAY_AMT3\", \"PAY_AMT4\", \"PAY_AMT5\", \"PAY_AMT6\",], axis = 1)"
   ]
  },
  {
   "cell_type": "code",
   "execution_count": 7,
   "id": "fca342e8",
   "metadata": {},
   "outputs": [
    {
     "data": {
      "text/html": [
       "<div>\n",
       "<style scoped>\n",
       "    .dataframe tbody tr th:only-of-type {\n",
       "        vertical-align: middle;\n",
       "    }\n",
       "\n",
       "    .dataframe tbody tr th {\n",
       "        vertical-align: top;\n",
       "    }\n",
       "\n",
       "    .dataframe thead th {\n",
       "        text-align: right;\n",
       "    }\n",
       "</style>\n",
       "<table border=\"1\" class=\"dataframe\">\n",
       "  <thead>\n",
       "    <tr style=\"text-align: right;\">\n",
       "      <th></th>\n",
       "      <th>LIMIT_BAL</th>\n",
       "      <th>SEX</th>\n",
       "      <th>EDUCATION</th>\n",
       "      <th>MARRIAGE</th>\n",
       "      <th>AGE</th>\n",
       "      <th>PAY_0</th>\n",
       "      <th>PAY_2</th>\n",
       "      <th>PAY_3</th>\n",
       "      <th>BILL_AMT1</th>\n",
       "      <th>BILL_AMT2</th>\n",
       "      <th>BILL_AMT3</th>\n",
       "      <th>Y</th>\n",
       "    </tr>\n",
       "  </thead>\n",
       "  <tbody>\n",
       "    <tr>\n",
       "      <th>0</th>\n",
       "      <td>20000</td>\n",
       "      <td>2</td>\n",
       "      <td>2</td>\n",
       "      <td>1</td>\n",
       "      <td>24</td>\n",
       "      <td>2</td>\n",
       "      <td>2</td>\n",
       "      <td>-1</td>\n",
       "      <td>3913</td>\n",
       "      <td>3102</td>\n",
       "      <td>689</td>\n",
       "      <td>1</td>\n",
       "    </tr>\n",
       "    <tr>\n",
       "      <th>1</th>\n",
       "      <td>120000</td>\n",
       "      <td>2</td>\n",
       "      <td>2</td>\n",
       "      <td>2</td>\n",
       "      <td>26</td>\n",
       "      <td>-1</td>\n",
       "      <td>2</td>\n",
       "      <td>0</td>\n",
       "      <td>2682</td>\n",
       "      <td>1725</td>\n",
       "      <td>2682</td>\n",
       "      <td>1</td>\n",
       "    </tr>\n",
       "    <tr>\n",
       "      <th>2</th>\n",
       "      <td>90000</td>\n",
       "      <td>2</td>\n",
       "      <td>2</td>\n",
       "      <td>2</td>\n",
       "      <td>34</td>\n",
       "      <td>0</td>\n",
       "      <td>0</td>\n",
       "      <td>0</td>\n",
       "      <td>29239</td>\n",
       "      <td>14027</td>\n",
       "      <td>13559</td>\n",
       "      <td>0</td>\n",
       "    </tr>\n",
       "    <tr>\n",
       "      <th>3</th>\n",
       "      <td>50000</td>\n",
       "      <td>2</td>\n",
       "      <td>2</td>\n",
       "      <td>1</td>\n",
       "      <td>37</td>\n",
       "      <td>0</td>\n",
       "      <td>0</td>\n",
       "      <td>0</td>\n",
       "      <td>46990</td>\n",
       "      <td>48233</td>\n",
       "      <td>49291</td>\n",
       "      <td>0</td>\n",
       "    </tr>\n",
       "    <tr>\n",
       "      <th>4</th>\n",
       "      <td>50000</td>\n",
       "      <td>1</td>\n",
       "      <td>2</td>\n",
       "      <td>1</td>\n",
       "      <td>57</td>\n",
       "      <td>-1</td>\n",
       "      <td>0</td>\n",
       "      <td>-1</td>\n",
       "      <td>8617</td>\n",
       "      <td>5670</td>\n",
       "      <td>35835</td>\n",
       "      <td>0</td>\n",
       "    </tr>\n",
       "    <tr>\n",
       "      <th>5</th>\n",
       "      <td>50000</td>\n",
       "      <td>1</td>\n",
       "      <td>1</td>\n",
       "      <td>2</td>\n",
       "      <td>37</td>\n",
       "      <td>0</td>\n",
       "      <td>0</td>\n",
       "      <td>0</td>\n",
       "      <td>64400</td>\n",
       "      <td>57069</td>\n",
       "      <td>57608</td>\n",
       "      <td>0</td>\n",
       "    </tr>\n",
       "    <tr>\n",
       "      <th>6</th>\n",
       "      <td>500000</td>\n",
       "      <td>1</td>\n",
       "      <td>1</td>\n",
       "      <td>2</td>\n",
       "      <td>29</td>\n",
       "      <td>0</td>\n",
       "      <td>0</td>\n",
       "      <td>0</td>\n",
       "      <td>367965</td>\n",
       "      <td>412023</td>\n",
       "      <td>445007</td>\n",
       "      <td>0</td>\n",
       "    </tr>\n",
       "  </tbody>\n",
       "</table>\n",
       "</div>"
      ],
      "text/plain": [
       "   LIMIT_BAL  SEX  EDUCATION  MARRIAGE  AGE  PAY_0  PAY_2  PAY_3  BILL_AMT1  \\\n",
       "0      20000    2          2         1   24      2      2     -1       3913   \n",
       "1     120000    2          2         2   26     -1      2      0       2682   \n",
       "2      90000    2          2         2   34      0      0      0      29239   \n",
       "3      50000    2          2         1   37      0      0      0      46990   \n",
       "4      50000    1          2         1   57     -1      0     -1       8617   \n",
       "5      50000    1          1         2   37      0      0      0      64400   \n",
       "6     500000    1          1         2   29      0      0      0     367965   \n",
       "\n",
       "   BILL_AMT2  BILL_AMT3  Y  \n",
       "0       3102        689  1  \n",
       "1       1725       2682  1  \n",
       "2      14027      13559  0  \n",
       "3      48233      49291  0  \n",
       "4       5670      35835  0  \n",
       "5      57069      57608  0  \n",
       "6     412023     445007  0  "
      ]
     },
     "execution_count": 7,
     "metadata": {},
     "output_type": "execute_result"
    }
   ],
   "source": [
    "# первые 7 строк столбцов\n",
    "DF_raw.head(7)"
   ]
  },
  {
   "cell_type": "code",
   "execution_count": 8,
   "id": "07670649",
   "metadata": {},
   "outputs": [
    {
     "data": {
      "text/plain": [
       "LIMIT_BAL    int64\n",
       "SEX          int64\n",
       "EDUCATION    int64\n",
       "MARRIAGE     int64\n",
       "AGE          int64\n",
       "PAY_0        int64\n",
       "PAY_2        int64\n",
       "PAY_3        int64\n",
       "BILL_AMT1    int64\n",
       "BILL_AMT2    int64\n",
       "BILL_AMT3    int64\n",
       "Y            int64\n",
       "dtype: object"
      ]
     },
     "execution_count": 8,
     "metadata": {},
     "output_type": "execute_result"
    }
   ],
   "source": [
    "# типы столбцов\n",
    "DF_raw.dtypes"
   ]
  },
  {
   "cell_type": "markdown",
   "id": "0fe68e45",
   "metadata": {},
   "source": [
    "Следует обратить внимание на категориальные переменные `SEX`, `EDUCATION`, `MARRIAGE`."
   ]
  },
  {
   "cell_type": "markdown",
   "id": "1635163a",
   "metadata": {},
   "source": [
    "# Предварительный анализ данных  \n",
    "\n",
    "## Описательные статистики  \n",
    "\n",
    "Стандартный подсчёт статистик с помощью фунции `describe()` бесполезен для категориальных столбцов, поэтому рассчитаем частоты категорий по каждому столбцу. Для вывода отчёта воспользуемся форматированием на Markdown.   "
   ]
  },
  {
   "cell_type": "code",
   "execution_count": 9,
   "id": "614f24b4",
   "metadata": {},
   "outputs": [
    {
     "data": {
      "text/html": [
       "<div>\n",
       "<style scoped>\n",
       "    .dataframe tbody tr th:only-of-type {\n",
       "        vertical-align: middle;\n",
       "    }\n",
       "\n",
       "    .dataframe tbody tr th {\n",
       "        vertical-align: top;\n",
       "    }\n",
       "\n",
       "    .dataframe thead th {\n",
       "        text-align: right;\n",
       "    }\n",
       "</style>\n",
       "<table border=\"1\" class=\"dataframe\">\n",
       "  <thead>\n",
       "    <tr style=\"text-align: right;\">\n",
       "      <th>EDUCATION</th>\n",
       "      <th>0</th>\n",
       "      <th>1</th>\n",
       "      <th>2</th>\n",
       "      <th>3</th>\n",
       "      <th>4</th>\n",
       "      <th>5</th>\n",
       "      <th>6</th>\n",
       "    </tr>\n",
       "    <tr>\n",
       "      <th>Y</th>\n",
       "      <th></th>\n",
       "      <th></th>\n",
       "      <th></th>\n",
       "      <th></th>\n",
       "      <th></th>\n",
       "      <th></th>\n",
       "      <th></th>\n",
       "    </tr>\n",
       "  </thead>\n",
       "  <tbody>\n",
       "    <tr>\n",
       "      <th>0</th>\n",
       "      <td>14</td>\n",
       "      <td>8549</td>\n",
       "      <td>10700</td>\n",
       "      <td>3680</td>\n",
       "      <td>116</td>\n",
       "      <td>262</td>\n",
       "      <td>43</td>\n",
       "    </tr>\n",
       "    <tr>\n",
       "      <th>1</th>\n",
       "      <td>0</td>\n",
       "      <td>2036</td>\n",
       "      <td>3330</td>\n",
       "      <td>1237</td>\n",
       "      <td>7</td>\n",
       "      <td>18</td>\n",
       "      <td>8</td>\n",
       "    </tr>\n",
       "  </tbody>\n",
       "</table>\n",
       "</div>"
      ],
      "text/plain": [
       "EDUCATION   0     1      2     3    4    5   6\n",
       "Y                                             \n",
       "0          14  8549  10700  3680  116  262  43\n",
       "1           0  2036   3330  1237    7   18   8"
      ]
     },
     "execution_count": 9,
     "metadata": {},
     "output_type": "execute_result"
    }
   ],
   "source": [
    "df_Y_EDUCATION = pd.crosstab(DF_raw['Y'], DF_raw['EDUCATION'])\n",
    "df_Y_EDUCATION"
   ]
  },
  {
   "cell_type": "code",
   "execution_count": 10,
   "id": "c40274c5",
   "metadata": {},
   "outputs": [
    {
     "data": {
      "text/html": [
       "<div>\n",
       "<style scoped>\n",
       "    .dataframe tbody tr th:only-of-type {\n",
       "        vertical-align: middle;\n",
       "    }\n",
       "\n",
       "    .dataframe tbody tr th {\n",
       "        vertical-align: top;\n",
       "    }\n",
       "\n",
       "    .dataframe thead th {\n",
       "        text-align: right;\n",
       "    }\n",
       "</style>\n",
       "<table border=\"1\" class=\"dataframe\">\n",
       "  <thead>\n",
       "    <tr style=\"text-align: right;\">\n",
       "      <th>MARRIAGE</th>\n",
       "      <th>0</th>\n",
       "      <th>1</th>\n",
       "      <th>2</th>\n",
       "      <th>3</th>\n",
       "    </tr>\n",
       "    <tr>\n",
       "      <th>Y</th>\n",
       "      <th></th>\n",
       "      <th></th>\n",
       "      <th></th>\n",
       "      <th></th>\n",
       "    </tr>\n",
       "  </thead>\n",
       "  <tbody>\n",
       "    <tr>\n",
       "      <th>0</th>\n",
       "      <td>49</td>\n",
       "      <td>10453</td>\n",
       "      <td>12623</td>\n",
       "      <td>239</td>\n",
       "    </tr>\n",
       "    <tr>\n",
       "      <th>1</th>\n",
       "      <td>5</td>\n",
       "      <td>3206</td>\n",
       "      <td>3341</td>\n",
       "      <td>84</td>\n",
       "    </tr>\n",
       "  </tbody>\n",
       "</table>\n",
       "</div>"
      ],
      "text/plain": [
       "MARRIAGE   0      1      2    3\n",
       "Y                              \n",
       "0         49  10453  12623  239\n",
       "1          5   3206   3341   84"
      ]
     },
     "execution_count": 10,
     "metadata": {},
     "output_type": "execute_result"
    }
   ],
   "source": [
    "df_Y_MARRIAGE = pd.crosstab(DF_raw['Y'], DF_raw['MARRIAGE'])\n",
    "df_Y_MARRIAGE"
   ]
  },
  {
   "cell_type": "code",
   "execution_count": 11,
   "id": "9eeefe04",
   "metadata": {},
   "outputs": [
    {
     "data": {
      "text/html": [
       "<div>\n",
       "<style scoped>\n",
       "    .dataframe tbody tr th:only-of-type {\n",
       "        vertical-align: middle;\n",
       "    }\n",
       "\n",
       "    .dataframe tbody tr th {\n",
       "        vertical-align: top;\n",
       "    }\n",
       "\n",
       "    .dataframe thead th {\n",
       "        text-align: right;\n",
       "    }\n",
       "</style>\n",
       "<table border=\"1\" class=\"dataframe\">\n",
       "  <thead>\n",
       "    <tr style=\"text-align: right;\">\n",
       "      <th>SEX</th>\n",
       "      <th>1</th>\n",
       "      <th>2</th>\n",
       "    </tr>\n",
       "    <tr>\n",
       "      <th>Y</th>\n",
       "      <th></th>\n",
       "      <th></th>\n",
       "    </tr>\n",
       "  </thead>\n",
       "  <tbody>\n",
       "    <tr>\n",
       "      <th>0</th>\n",
       "      <td>9015</td>\n",
       "      <td>14349</td>\n",
       "    </tr>\n",
       "    <tr>\n",
       "      <th>1</th>\n",
       "      <td>2873</td>\n",
       "      <td>3763</td>\n",
       "    </tr>\n",
       "  </tbody>\n",
       "</table>\n",
       "</div>"
      ],
      "text/plain": [
       "SEX     1      2\n",
       "Y               \n",
       "0    9015  14349\n",
       "1    2873   3763"
      ]
     },
     "execution_count": 11,
     "metadata": {},
     "output_type": "execute_result"
    }
   ],
   "source": [
    "df_Y_SEX = pd.crosstab(DF_raw['Y'], DF_raw['SEX'])\n",
    "df_Y_SEX"
   ]
  },
  {
   "cell_type": "markdown",
   "id": "0f2da360",
   "metadata": {},
   "source": [
    "Перед подсчетом статистик обратим внимание:\n",
    "\n",
    "* в столбце `EDUCATION` есть значения `0`, `5`, `6`, которые будем считать как пропуски \n",
    "* в столбце `MARRIAGE` есть значение `0`, которое тоже будем считать как пропуск  \n",
    "\n",
    "Поэтому заменим эти значения на пропуски для более удобной обработки результатов."
   ]
  },
  {
   "cell_type": "code",
   "execution_count": 12,
   "id": "7db3fe32",
   "metadata": {},
   "outputs": [],
   "source": [
    "# для выборки\n",
    "df_DF_raw = pd.DataFrame(DF_raw)\n",
    "df_DF_raw['EDUCATION'] = df_DF_raw['EDUCATION'].replace(0, np.nan)\n",
    "df_DF_raw['EDUCATION'] = df_DF_raw['EDUCATION'].replace(5, np.nan)\n",
    "df_DF_raw['EDUCATION'] = df_DF_raw['EDUCATION'].replace(6, np.nan)\n",
    "df_DF_raw['MARRIAGE'] = df_DF_raw['MARRIAGE'].replace(0, np.nan)\n",
    "DF_raw = df_DF_raw"
   ]
  },
  {
   "cell_type": "code",
   "execution_count": 13,
   "id": "78108987",
   "metadata": {},
   "outputs": [
    {
     "data": {
      "text/markdown": [
       "**SEX**</br>`2`:&ensp;&ensp;&ensp;&ensp;0.604</br>`1`:&ensp;&ensp;&ensp;&ensp;0.396"
      ],
      "text/plain": [
       "<IPython.core.display.Markdown object>"
      ]
     },
     "metadata": {},
     "output_type": "display_data"
    },
    {
     "data": {
      "text/markdown": [
       "**EDUCATION**</br>`2.0`:&ensp;&ensp;&ensp;&ensp;0.468</br>`1.0`:&ensp;&ensp;&ensp;&ensp;0.353</br>`3.0`:&ensp;&ensp;&ensp;&ensp;0.164</br>`nan`:&ensp;&ensp;&ensp;&ensp;0.012</br>`4.0`:&ensp;&ensp;&ensp;&ensp;0.004"
      ],
      "text/plain": [
       "<IPython.core.display.Markdown object>"
      ]
     },
     "metadata": {},
     "output_type": "display_data"
    },
    {
     "data": {
      "text/markdown": [
       "**MARRIAGE**</br>`2.0`:&ensp;&ensp;&ensp;&ensp;0.532</br>`1.0`:&ensp;&ensp;&ensp;&ensp;0.455</br>`3.0`:&ensp;&ensp;&ensp;&ensp;0.011</br>`nan`:&ensp;&ensp;&ensp;&ensp;0.002"
      ],
      "text/plain": [
       "<IPython.core.display.Markdown object>"
      ]
     },
     "metadata": {},
     "output_type": "display_data"
    }
   ],
   "source": [
    "# считаем частоты по столбцам, учитывая пропуски\n",
    "\n",
    "for col in DF_raw.columns[DF_raw.columns == 'SEX'] :\n",
    "    freq_col = DF_raw[col].value_counts(dropna=False)\n",
    "    str_freqs = np.around(freq_col / sum(freq_col), 3).astype(str)\n",
    "    str_names = freq_col.index.values\n",
    "    # для вывода в html\n",
    "    printmd('**' + col + '**</br>' + \n",
    "            '</br>'.join(list(map(concat_func_md, str_names, str_freqs))))\n",
    "\n",
    "for col in DF_raw.columns[DF_raw.columns == 'EDUCATION'] :\n",
    "    freq_col = DF_raw[col].value_counts(dropna=False)\n",
    "    str_freqs = np.around(freq_col / sum(freq_col), 3).astype(str)\n",
    "    str_names = freq_col.index.values\n",
    "    # для вывода в html\n",
    "    printmd('**' + col + '**</br>' + \n",
    "            '</br>'.join(list(map(concat_func_md, str_names, str_freqs))))\n",
    "    \n",
    "for col in DF_raw.columns[DF_raw.columns == 'MARRIAGE'] :\n",
    "    freq_col = DF_raw[col].value_counts(dropna=False)\n",
    "    str_freqs = np.around(freq_col / sum(freq_col), 3).astype(str)\n",
    "    str_names = freq_col.index.values\n",
    "    # для вывода в html\n",
    "    printmd('**' + col + '**</br>' + \n",
    "            '</br>'.join(list(map(concat_func_md, str_names, str_freqs))))\n",
    "    \n",
    "    # для сохранения в pdf\n",
    "    # print('\\n', col, '\\n', \n",
    "    #       '\\n'.join(list(map(concat_func, str_names, str_freqs))))"
   ]
  },
  {
   "cell_type": "markdown",
   "id": "ba78dc0a",
   "metadata": {},
   "source": [
    "Так как категориальных переменных всего 3, то пропуски легко заметить в этом результате подсчета частот.\n",
    "Если брать наблюдения `EDUCATION` и `MARRIAGE` отдельно друг от друга, то пропуски в них состовляют, очевидно, не более 2% и 1% соответственно. \n",
    "\n",
    "Для проверки выведем их отдельно."
   ]
  },
  {
   "cell_type": "code",
   "execution_count": 14,
   "id": "d07feb73",
   "metadata": {},
   "outputs": [
    {
     "data": {
      "text/plain": [
       "EDUCATION    0.012\n",
       "MARRIAGE     0.002\n",
       "dtype: float64"
      ]
     },
     "execution_count": 14,
     "metadata": {},
     "output_type": "execute_result"
    }
   ],
   "source": [
    "# считаем пропуски в столбцах, выводим ненулевые значения\n",
    "nas = DF_raw.isna().sum()\n",
    "nas = np.around(nas / DF_raw.shape[0], 3)\n",
    "nas[nas > 0]"
   ]
  },
  {
   "cell_type": "markdown",
   "id": "b618a25b",
   "metadata": {},
   "source": [
    "Подсчитаем, сколько наблюдений мы потеряем, если выбросим все строки хотя бы с одним пропуском.  "
   ]
  },
  {
   "cell_type": "code",
   "execution_count": 15,
   "id": "89eb24fe",
   "metadata": {},
   "outputs": [
    {
     "name": "stdout",
     "output_type": "stream",
     "text": [
      "Из-за пропусков пропадает 399 строк (1.3%)\n"
     ]
    }
   ],
   "source": [
    "na_rows = sum([True for idx, row in DF_raw.iterrows() if any(row.isnull())])\n",
    "print('Из-за пропусков пропадает ', na_rows, ' строк (',\n",
    "      np.around(na_rows / DF_raw.shape[0] * 100, 1), '%)', sep='')"
   ]
  },
  {
   "cell_type": "markdown",
   "id": "8fe7bbef",
   "metadata": {},
   "source": [
    "Выводы по описательным статистикам: доли классов (`Y`) сопоставимы, наибольшее количество категорий у объясняющей переменной `EDUCATION`. Строки с пропусками составляют не более 2%, поэтому мы уберём их из обучающей выборки.  "
   ]
  },
  {
   "cell_type": "code",
   "execution_count": 16,
   "id": "31dc7789",
   "metadata": {},
   "outputs": [
    {
     "data": {
      "text/plain": [
       "(29601, 12)"
      ]
     },
     "execution_count": 16,
     "metadata": {},
     "output_type": "execute_result"
    }
   ],
   "source": [
    "# выкидываем пропуски\n",
    "DF_raw = DF_raw.dropna()\n",
    "DF_raw.shape"
   ]
  },
  {
   "cell_type": "markdown",
   "id": "f8992461",
   "metadata": {},
   "source": [
    "## Распределение предикторов внутри классов  по зависимой переменной\n",
    "\n",
    "Для начала рассмотрим переменные, которые являются категориальными (`EDUCATION`, `MARRIAGE` и `SEX`). Оценивать их связь с зависимой переменной с помощью корреляционной матрицы некорректно. Вместо этого можно воспользоваться [критерием согласия Хи-квадрат](https://ru.wikipedia.org/wiki/%D0%9A%D1%80%D0%B8%D1%82%D0%B5%D1%80%D0%B8%D0%B9_%D1%81%D0%BE%D0%B3%D0%BB%D0%B0%D1%81%D0%B8%D1%8F_%D0%9F%D0%B8%D1%80%D1%81%D0%BE%D0%BD%D0%B0), который рассчитывается по таблице сопряжённости. Нулевая гипотеза теста: распределение долей в таблице сопряжённости случайно, т.е. два показателя независимы друг от друга.     \n",
    "Проведём тест для всех пар \"объясняющая переменная\" – \"зависимая переменная\" и выведем те пары, для которых соответствующее критерию p-значение больше 0.05 (т.е. нулевая гипотеза принимается, переменные независимы).  "
   ]
  },
  {
   "cell_type": "code",
   "execution_count": 17,
   "id": "14078cd3",
   "metadata": {},
   "outputs": [],
   "source": [
    "for col in DF_raw.columns[1:4] :\n",
    "    con_tab = pd.crosstab(DF_raw[col], DF_raw['Y'])\n",
    "    c, p, dof, expected = chi2_contingency(con_tab)\n",
    "    if p > 0.05 :\n",
    "        print(col, 'и Y',\n",
    "              '\\nH_0: переменные распределены независимо друг от друга', \n",
    "              '\\nP-значение:', np.around(p, 4))"
   ]
  },
  {
   "cell_type": "markdown",
   "id": "e7d21a27",
   "metadata": {},
   "source": [
    "Результатом проверки стало, что ни одна из категориальных объясняющих переменных не приняла нулевую гипотезу, значит, распределение долей в таблице сопряжённости неслучайно (т.е. два показателя зависимы друг от друга).\n",
    "\n",
    "Построим корреляционную матрицу для непрерывных переменных. "
   ]
  },
  {
   "cell_type": "code",
   "execution_count": 18,
   "id": "edaf8729",
   "metadata": {},
   "outputs": [
    {
     "data": {
      "image/png": "[encoded data removed]",
      "text/plain": [
       "<Figure size 720x576 with 2 Axes>"
      ]
     },
     "metadata": {},
     "output_type": "display_data"
    }
   ],
   "source": [
    "# рассчитываем корреляционную матрицу\n",
    "corr_mat = DF_raw.drop('Y', axis=1).corr() \n",
    "col_names = DF_raw.drop('Y', axis=1).columns\n",
    "\n",
    "# переключаем стиль оформления, чтобы убрать сетку с тепловой карты\n",
    "mpl.style.use('seaborn-white')\n",
    "\n",
    "# рисуем корреляционную матрицу\n",
    "f = plt.figure(figsize=(10, 8))\n",
    "plt.matshow(corr_mat, fignum=f.number, cmap='PiYG')\n",
    "# координаты для названий строк и столбцов\n",
    "tics_coords = np.arange(0, len(col_names))\n",
    "# рисуем подписи\n",
    "plt.xticks(tics_coords, col_names, fontsize=14, rotation=90)\n",
    "plt.yticks(tics_coords, col_names, fontsize=14)\n",
    "# настраиваем легенду справа от тепловой карты\n",
    "cb = plt.colorbar()\n",
    "cb.ax.tick_params(labelsize=14)\n",
    "cb.ax.tick_params(labelsize=14)\n",
    "plt.show()"
   ]
  },
  {
   "cell_type": "markdown",
   "id": "ca3ea0b9",
   "metadata": {},
   "source": [
    "Между объясняющими непрерывными переменными обнаруживаются как прямые, так и обратные линейные взаимосвязи. Напоминание: для переменных `EDUCATION`, `MARRIAGE` и `SEX` она не информативна."
   ]
  },
  {
   "cell_type": "markdown",
   "id": "a22be2e3",
   "metadata": {},
   "source": [
    "### Создадим фиктивные переменные"
   ]
  },
  {
   "cell_type": "code",
   "execution_count": 19,
   "id": "94e0b192",
   "metadata": {},
   "outputs": [],
   "source": [
    "# для выборки\n",
    "DF_copy = DF_raw.copy()\n",
    "categorical_cols = ['SEX','EDUCATION','MARRIAGE']\n",
    "DF_copy = pd.get_dummies(DF_copy, columns = categorical_cols)"
   ]
  },
  {
   "cell_type": "code",
   "execution_count": 20,
   "id": "fb9ea962",
   "metadata": {},
   "outputs": [
    {
     "data": {
      "text/html": [
       "<div>\n",
       "<style scoped>\n",
       "    .dataframe tbody tr th:only-of-type {\n",
       "        vertical-align: middle;\n",
       "    }\n",
       "\n",
       "    .dataframe tbody tr th {\n",
       "        vertical-align: top;\n",
       "    }\n",
       "\n",
       "    .dataframe thead th {\n",
       "        text-align: right;\n",
       "    }\n",
       "</style>\n",
       "<table border=\"1\" class=\"dataframe\">\n",
       "  <thead>\n",
       "    <tr style=\"text-align: right;\">\n",
       "      <th></th>\n",
       "      <th>LIMIT_BAL</th>\n",
       "      <th>AGE</th>\n",
       "      <th>PAY_0</th>\n",
       "      <th>PAY_2</th>\n",
       "      <th>PAY_3</th>\n",
       "      <th>BILL_AMT1</th>\n",
       "      <th>BILL_AMT2</th>\n",
       "      <th>BILL_AMT3</th>\n",
       "      <th>Y</th>\n",
       "      <th>SEX_1</th>\n",
       "      <th>SEX_2</th>\n",
       "      <th>EDUCATION_1.0</th>\n",
       "      <th>EDUCATION_2.0</th>\n",
       "      <th>EDUCATION_3.0</th>\n",
       "      <th>EDUCATION_4.0</th>\n",
       "      <th>MARRIAGE_1.0</th>\n",
       "      <th>MARRIAGE_2.0</th>\n",
       "      <th>MARRIAGE_3.0</th>\n",
       "    </tr>\n",
       "  </thead>\n",
       "  <tbody>\n",
       "    <tr>\n",
       "      <th>0</th>\n",
       "      <td>20000</td>\n",
       "      <td>24</td>\n",
       "      <td>2</td>\n",
       "      <td>2</td>\n",
       "      <td>-1</td>\n",
       "      <td>3913</td>\n",
       "      <td>3102</td>\n",
       "      <td>689</td>\n",
       "      <td>1</td>\n",
       "      <td>0</td>\n",
       "      <td>1</td>\n",
       "      <td>0</td>\n",
       "      <td>1</td>\n",
       "      <td>0</td>\n",
       "      <td>0</td>\n",
       "      <td>1</td>\n",
       "      <td>0</td>\n",
       "      <td>0</td>\n",
       "    </tr>\n",
       "    <tr>\n",
       "      <th>1</th>\n",
       "      <td>120000</td>\n",
       "      <td>26</td>\n",
       "      <td>-1</td>\n",
       "      <td>2</td>\n",
       "      <td>0</td>\n",
       "      <td>2682</td>\n",
       "      <td>1725</td>\n",
       "      <td>2682</td>\n",
       "      <td>1</td>\n",
       "      <td>0</td>\n",
       "      <td>1</td>\n",
       "      <td>0</td>\n",
       "      <td>1</td>\n",
       "      <td>0</td>\n",
       "      <td>0</td>\n",
       "      <td>0</td>\n",
       "      <td>1</td>\n",
       "      <td>0</td>\n",
       "    </tr>\n",
       "    <tr>\n",
       "      <th>2</th>\n",
       "      <td>90000</td>\n",
       "      <td>34</td>\n",
       "      <td>0</td>\n",
       "      <td>0</td>\n",
       "      <td>0</td>\n",
       "      <td>29239</td>\n",
       "      <td>14027</td>\n",
       "      <td>13559</td>\n",
       "      <td>0</td>\n",
       "      <td>0</td>\n",
       "      <td>1</td>\n",
       "      <td>0</td>\n",
       "      <td>1</td>\n",
       "      <td>0</td>\n",
       "      <td>0</td>\n",
       "      <td>0</td>\n",
       "      <td>1</td>\n",
       "      <td>0</td>\n",
       "    </tr>\n",
       "    <tr>\n",
       "      <th>3</th>\n",
       "      <td>50000</td>\n",
       "      <td>37</td>\n",
       "      <td>0</td>\n",
       "      <td>0</td>\n",
       "      <td>0</td>\n",
       "      <td>46990</td>\n",
       "      <td>48233</td>\n",
       "      <td>49291</td>\n",
       "      <td>0</td>\n",
       "      <td>0</td>\n",
       "      <td>1</td>\n",
       "      <td>0</td>\n",
       "      <td>1</td>\n",
       "      <td>0</td>\n",
       "      <td>0</td>\n",
       "      <td>1</td>\n",
       "      <td>0</td>\n",
       "      <td>0</td>\n",
       "    </tr>\n",
       "    <tr>\n",
       "      <th>4</th>\n",
       "      <td>50000</td>\n",
       "      <td>57</td>\n",
       "      <td>-1</td>\n",
       "      <td>0</td>\n",
       "      <td>-1</td>\n",
       "      <td>8617</td>\n",
       "      <td>5670</td>\n",
       "      <td>35835</td>\n",
       "      <td>0</td>\n",
       "      <td>1</td>\n",
       "      <td>0</td>\n",
       "      <td>0</td>\n",
       "      <td>1</td>\n",
       "      <td>0</td>\n",
       "      <td>0</td>\n",
       "      <td>1</td>\n",
       "      <td>0</td>\n",
       "      <td>0</td>\n",
       "    </tr>\n",
       "  </tbody>\n",
       "</table>\n",
       "</div>"
      ],
      "text/plain": [
       "   LIMIT_BAL  AGE  PAY_0  PAY_2  PAY_3  BILL_AMT1  BILL_AMT2  BILL_AMT3  Y  \\\n",
       "0      20000   24      2      2     -1       3913       3102        689  1   \n",
       "1     120000   26     -1      2      0       2682       1725       2682  1   \n",
       "2      90000   34      0      0      0      29239      14027      13559  0   \n",
       "3      50000   37      0      0      0      46990      48233      49291  0   \n",
       "4      50000   57     -1      0     -1       8617       5670      35835  0   \n",
       "\n",
       "   SEX_1  SEX_2  EDUCATION_1.0  EDUCATION_2.0  EDUCATION_3.0  EDUCATION_4.0  \\\n",
       "0      0      1              0              1              0              0   \n",
       "1      0      1              0              1              0              0   \n",
       "2      0      1              0              1              0              0   \n",
       "3      0      1              0              1              0              0   \n",
       "4      1      0              0              1              0              0   \n",
       "\n",
       "   MARRIAGE_1.0  MARRIAGE_2.0  MARRIAGE_3.0  \n",
       "0             1             0             0  \n",
       "1             0             1             0  \n",
       "2             0             1             0  \n",
       "3             1             0             0  \n",
       "4             1             0             0  "
      ]
     },
     "execution_count": 20,
     "metadata": {},
     "output_type": "execute_result"
    }
   ],
   "source": [
    "DF_copy.head()"
   ]
  },
  {
   "cell_type": "code",
   "execution_count": 21,
   "id": "4418298f",
   "metadata": {},
   "outputs": [
    {
     "data": {
      "text/plain": [
       "(29601, 18)"
      ]
     },
     "execution_count": 21,
     "metadata": {},
     "output_type": "execute_result"
    }
   ],
   "source": [
    "# для проверки\n",
    "DF_copy.shape"
   ]
  },
  {
   "cell_type": "code",
   "execution_count": 22,
   "id": "8b935500",
   "metadata": {},
   "outputs": [
    {
     "data": {
      "text/html": [
       "<div>\n",
       "<style scoped>\n",
       "    .dataframe tbody tr th:only-of-type {\n",
       "        vertical-align: middle;\n",
       "    }\n",
       "\n",
       "    .dataframe tbody tr th {\n",
       "        vertical-align: top;\n",
       "    }\n",
       "\n",
       "    .dataframe thead th {\n",
       "        text-align: right;\n",
       "    }\n",
       "</style>\n",
       "<table border=\"1\" class=\"dataframe\">\n",
       "  <thead>\n",
       "    <tr style=\"text-align: right;\">\n",
       "      <th></th>\n",
       "      <th>Y</th>\n",
       "      <th>LIMIT_BAL</th>\n",
       "      <th>AGE</th>\n",
       "      <th>PAY_0</th>\n",
       "      <th>PAY_2</th>\n",
       "      <th>PAY_3</th>\n",
       "      <th>BILL_AMT1</th>\n",
       "      <th>BILL_AMT2</th>\n",
       "      <th>BILL_AMT3</th>\n",
       "      <th>SEX_1</th>\n",
       "      <th>SEX_2</th>\n",
       "      <th>EDUCATION_1.0</th>\n",
       "      <th>EDUCATION_2.0</th>\n",
       "      <th>EDUCATION_3.0</th>\n",
       "      <th>EDUCATION_4.0</th>\n",
       "      <th>MARRIAGE_1.0</th>\n",
       "      <th>MARRIAGE_2.0</th>\n",
       "      <th>MARRIAGE_3.0</th>\n",
       "    </tr>\n",
       "  </thead>\n",
       "  <tbody>\n",
       "    <tr>\n",
       "      <th>0</th>\n",
       "      <td>1</td>\n",
       "      <td>20000</td>\n",
       "      <td>24</td>\n",
       "      <td>2</td>\n",
       "      <td>2</td>\n",
       "      <td>-1</td>\n",
       "      <td>3913</td>\n",
       "      <td>3102</td>\n",
       "      <td>689</td>\n",
       "      <td>0</td>\n",
       "      <td>1</td>\n",
       "      <td>0</td>\n",
       "      <td>1</td>\n",
       "      <td>0</td>\n",
       "      <td>0</td>\n",
       "      <td>1</td>\n",
       "      <td>0</td>\n",
       "      <td>0</td>\n",
       "    </tr>\n",
       "    <tr>\n",
       "      <th>1</th>\n",
       "      <td>1</td>\n",
       "      <td>120000</td>\n",
       "      <td>26</td>\n",
       "      <td>-1</td>\n",
       "      <td>2</td>\n",
       "      <td>0</td>\n",
       "      <td>2682</td>\n",
       "      <td>1725</td>\n",
       "      <td>2682</td>\n",
       "      <td>0</td>\n",
       "      <td>1</td>\n",
       "      <td>0</td>\n",
       "      <td>1</td>\n",
       "      <td>0</td>\n",
       "      <td>0</td>\n",
       "      <td>0</td>\n",
       "      <td>1</td>\n",
       "      <td>0</td>\n",
       "    </tr>\n",
       "    <tr>\n",
       "      <th>2</th>\n",
       "      <td>0</td>\n",
       "      <td>90000</td>\n",
       "      <td>34</td>\n",
       "      <td>0</td>\n",
       "      <td>0</td>\n",
       "      <td>0</td>\n",
       "      <td>29239</td>\n",
       "      <td>14027</td>\n",
       "      <td>13559</td>\n",
       "      <td>0</td>\n",
       "      <td>1</td>\n",
       "      <td>0</td>\n",
       "      <td>1</td>\n",
       "      <td>0</td>\n",
       "      <td>0</td>\n",
       "      <td>0</td>\n",
       "      <td>1</td>\n",
       "      <td>0</td>\n",
       "    </tr>\n",
       "    <tr>\n",
       "      <th>3</th>\n",
       "      <td>0</td>\n",
       "      <td>50000</td>\n",
       "      <td>37</td>\n",
       "      <td>0</td>\n",
       "      <td>0</td>\n",
       "      <td>0</td>\n",
       "      <td>46990</td>\n",
       "      <td>48233</td>\n",
       "      <td>49291</td>\n",
       "      <td>0</td>\n",
       "      <td>1</td>\n",
       "      <td>0</td>\n",
       "      <td>1</td>\n",
       "      <td>0</td>\n",
       "      <td>0</td>\n",
       "      <td>1</td>\n",
       "      <td>0</td>\n",
       "      <td>0</td>\n",
       "    </tr>\n",
       "    <tr>\n",
       "      <th>4</th>\n",
       "      <td>0</td>\n",
       "      <td>50000</td>\n",
       "      <td>57</td>\n",
       "      <td>-1</td>\n",
       "      <td>0</td>\n",
       "      <td>-1</td>\n",
       "      <td>8617</td>\n",
       "      <td>5670</td>\n",
       "      <td>35835</td>\n",
       "      <td>1</td>\n",
       "      <td>0</td>\n",
       "      <td>0</td>\n",
       "      <td>1</td>\n",
       "      <td>0</td>\n",
       "      <td>0</td>\n",
       "      <td>1</td>\n",
       "      <td>0</td>\n",
       "      <td>0</td>\n",
       "    </tr>\n",
       "  </tbody>\n",
       "</table>\n",
       "</div>"
      ],
      "text/plain": [
       "   Y  LIMIT_BAL  AGE  PAY_0  PAY_2  PAY_3  BILL_AMT1  BILL_AMT2  BILL_AMT3  \\\n",
       "0  1      20000   24      2      2     -1       3913       3102        689   \n",
       "1  1     120000   26     -1      2      0       2682       1725       2682   \n",
       "2  0      90000   34      0      0      0      29239      14027      13559   \n",
       "3  0      50000   37      0      0      0      46990      48233      49291   \n",
       "4  0      50000   57     -1      0     -1       8617       5670      35835   \n",
       "\n",
       "   SEX_1  SEX_2  EDUCATION_1.0  EDUCATION_2.0  EDUCATION_3.0  EDUCATION_4.0  \\\n",
       "0      0      1              0              1              0              0   \n",
       "1      0      1              0              1              0              0   \n",
       "2      0      1              0              1              0              0   \n",
       "3      0      1              0              1              0              0   \n",
       "4      1      0              0              1              0              0   \n",
       "\n",
       "   MARRIAGE_1.0  MARRIAGE_2.0  MARRIAGE_3.0  \n",
       "0             1             0             0  \n",
       "1             0             1             0  \n",
       "2             0             1             0  \n",
       "3             1             0             0  \n",
       "4             1             0             0  "
      ]
     },
     "execution_count": 22,
     "metadata": {},
     "output_type": "execute_result"
    }
   ],
   "source": [
    "# y в начало фрейма для удобства\n",
    "DF_copy = DF_copy[ ['Y'] + [ col for col in DF_copy.columns if col != 'Y' ] ]\n",
    "DF_copy.iloc[:, :].head(5)"
   ]
  },
  {
   "cell_type": "markdown",
   "id": "23adb2e8",
   "metadata": {},
   "source": [
    "### Отложим 15% наблюдений для прогноза"
   ]
  },
  {
   "cell_type": "code",
   "execution_count": 23,
   "id": "5c863e59",
   "metadata": {},
   "outputs": [],
   "source": [
    "# наблюдения для моделирования\n",
    "DF = DF_copy.sample(frac=0.85, random_state=my_seed)\n",
    "# отложенные наблюдения\n",
    "DF_predict = DF_copy.drop(DF.index)"
   ]
  },
  {
   "cell_type": "markdown",
   "id": "d3a48810",
   "metadata": {},
   "source": [
    "# Преобразование исходных данных и построение моделей  \n",
    "\n",
    "В качестве альтернативных моделей рассмотрим SVM с различными вариантами ядер и\n",
    "логистическую регрессию. Причём предварительно преобразуем пространство исходных\n",
    "показателей с помощью метода главных компонент.\n",
    "\n",
    "\n",
    "\n",
    "## Стандартизация и переход к главным компонентам "
   ]
  },
  {
   "cell_type": "code",
   "execution_count": 24,
   "id": "688312d9",
   "metadata": {},
   "outputs": [
    {
     "name": "stdout",
     "output_type": "stream",
     "text": [
      "Доли объяснённой дисперсии по компонентам в PLS:\n",
      " [0.208 0.152 0.131 0.126 0.097 0.073 0.063 0.063 0.037 0.027 0.014 0.007\n",
      " 0.003 0.    0.    0.   ] \n",
      "Общая сумма долей: 1.0\n"
     ]
    }
   ],
   "source": [
    "# стандартизация\n",
    "sc = StandardScaler()\n",
    "X_train_std = sc.fit_transform(DF.iloc[:, 2:].values)\n",
    "\n",
    "# оцениваем объяснённую главными компонентами дисперсию\n",
    "pca = PCA()\n",
    "X_train_pca = pca.fit_transform(X_train_std)\n",
    "\n",
    "# считаем доли объяснённой дисперсии\n",
    "frac_var_expl = pca.explained_variance_ratio_\n",
    "print('Доли объяснённой дисперсии по компонентам в PLS:\\n',\n",
    " np.around(frac_var_expl, 3),\n",
    " '\\nОбщая сумма долей:', np.around(sum(frac_var_expl), 3))\n"
   ]
  },
  {
   "cell_type": "markdown",
   "id": "4fa61de0",
   "metadata": {},
   "source": [
    "Таким образом, первые две главные компоненты объясняют 34.8% разброса 16 объясняющих переменных. "
   ]
  },
  {
   "cell_type": "markdown",
   "id": "6a5a3814",
   "metadata": {},
   "source": [
    "Теперь объединим функции-преобразователи и оценщики в конвейер с помощью `Pipeline` и оценим точность логистической регрессии с помощью перекрёстной проверки."
   ]
  },
  {
   "cell_type": "markdown",
   "id": "ad8e1a6c",
   "metadata": {},
   "source": [
    "## Модель логистической регрессии с перекрёстной проверкой\n"
   ]
  },
  {
   "cell_type": "code",
   "execution_count": 25,
   "id": "a0127bc8",
   "metadata": {},
   "outputs": [
    {
     "name": "stdout",
     "output_type": "stream",
     "text": [
      "Acc с перекрёстной проверкой \n",
      "для модели sc_pca_logit : 0.785\n"
     ]
    }
   ],
   "source": [
    "# данные для обучения моделей\n",
    "X_train = DF.iloc[:, 1:] \n",
    "y_train = DF.iloc[:, 0]\n",
    "\n",
    "# объединяем в конвейер шкалирование, ГК с 2 компонентами и логит\n",
    "pipe_lr = make_pipeline(StandardScaler(),\n",
    "                        PCA(n_components = 2),\n",
    "                        LogisticRegression(random_state = my_seed, solver = 'lbfgs'))\n",
    "\n",
    "# будем сохранять точность моделей в один массив\n",
    "score = list()\n",
    "score_models = list()\n",
    "\n",
    "# считаем точность с перекрёстной проверкой, показатель Acc\n",
    "cv = cross_val_score(estimator = pipe_lr, X = X_train, y = y_train, \n",
    "                     cv = 5, scoring='accuracy')\n",
    "\n",
    "# записываем точность\n",
    "score.append(np.around(np.mean(cv), 3)) \n",
    "score_models.append('sc_pca_logit')\n",
    "print('Acc с перекрёстной проверкой',\n",
    "      '\\nдля модели', score_models[0], ':', score[0])"
   ]
  },
  {
   "cell_type": "markdown",
   "id": "75d2c50f",
   "metadata": {},
   "source": [
    "Для проверки выведем `X_train` и `y_train` (так как они могут быть определены ошибочно)."
   ]
  },
  {
   "cell_type": "code",
   "execution_count": 26,
   "id": "d6aa9a82",
   "metadata": {},
   "outputs": [
    {
     "data": {
      "text/plain": [
       "28563    0\n",
       "26595    0\n",
       "15017    0\n",
       "3553     0\n",
       "9040     1\n",
       "        ..\n",
       "14779    1\n",
       "2726     0\n",
       "17178    0\n",
       "24996    1\n",
       "10379    0\n",
       "Name: Y, Length: 25161, dtype: int64"
      ]
     },
     "execution_count": 26,
     "metadata": {},
     "output_type": "execute_result"
    }
   ],
   "source": [
    "y_train"
   ]
  },
  {
   "cell_type": "code",
   "execution_count": 27,
   "id": "c2555df5",
   "metadata": {},
   "outputs": [
    {
     "data": {
      "text/html": [
       "<div>\n",
       "<style scoped>\n",
       "    .dataframe tbody tr th:only-of-type {\n",
       "        vertical-align: middle;\n",
       "    }\n",
       "\n",
       "    .dataframe tbody tr th {\n",
       "        vertical-align: top;\n",
       "    }\n",
       "\n",
       "    .dataframe thead th {\n",
       "        text-align: right;\n",
       "    }\n",
       "</style>\n",
       "<table border=\"1\" class=\"dataframe\">\n",
       "  <thead>\n",
       "    <tr style=\"text-align: right;\">\n",
       "      <th></th>\n",
       "      <th>LIMIT_BAL</th>\n",
       "      <th>AGE</th>\n",
       "      <th>PAY_0</th>\n",
       "      <th>PAY_2</th>\n",
       "      <th>PAY_3</th>\n",
       "      <th>BILL_AMT1</th>\n",
       "      <th>BILL_AMT2</th>\n",
       "      <th>BILL_AMT3</th>\n",
       "      <th>SEX_1</th>\n",
       "      <th>SEX_2</th>\n",
       "      <th>EDUCATION_1.0</th>\n",
       "      <th>EDUCATION_2.0</th>\n",
       "      <th>EDUCATION_3.0</th>\n",
       "      <th>EDUCATION_4.0</th>\n",
       "      <th>MARRIAGE_1.0</th>\n",
       "      <th>MARRIAGE_2.0</th>\n",
       "      <th>MARRIAGE_3.0</th>\n",
       "    </tr>\n",
       "  </thead>\n",
       "  <tbody>\n",
       "    <tr>\n",
       "      <th>28563</th>\n",
       "      <td>30000</td>\n",
       "      <td>35</td>\n",
       "      <td>0</td>\n",
       "      <td>0</td>\n",
       "      <td>0</td>\n",
       "      <td>27873</td>\n",
       "      <td>27326</td>\n",
       "      <td>27648</td>\n",
       "      <td>0</td>\n",
       "      <td>1</td>\n",
       "      <td>0</td>\n",
       "      <td>0</td>\n",
       "      <td>1</td>\n",
       "      <td>0</td>\n",
       "      <td>0</td>\n",
       "      <td>1</td>\n",
       "      <td>0</td>\n",
       "    </tr>\n",
       "    <tr>\n",
       "      <th>26595</th>\n",
       "      <td>120000</td>\n",
       "      <td>30</td>\n",
       "      <td>-2</td>\n",
       "      <td>-2</td>\n",
       "      <td>-2</td>\n",
       "      <td>0</td>\n",
       "      <td>0</td>\n",
       "      <td>0</td>\n",
       "      <td>1</td>\n",
       "      <td>0</td>\n",
       "      <td>1</td>\n",
       "      <td>0</td>\n",
       "      <td>0</td>\n",
       "      <td>0</td>\n",
       "      <td>0</td>\n",
       "      <td>1</td>\n",
       "      <td>0</td>\n",
       "    </tr>\n",
       "    <tr>\n",
       "      <th>15017</th>\n",
       "      <td>20000</td>\n",
       "      <td>44</td>\n",
       "      <td>0</td>\n",
       "      <td>0</td>\n",
       "      <td>2</td>\n",
       "      <td>16401</td>\n",
       "      <td>9620</td>\n",
       "      <td>9264</td>\n",
       "      <td>1</td>\n",
       "      <td>0</td>\n",
       "      <td>0</td>\n",
       "      <td>1</td>\n",
       "      <td>0</td>\n",
       "      <td>0</td>\n",
       "      <td>1</td>\n",
       "      <td>0</td>\n",
       "      <td>0</td>\n",
       "    </tr>\n",
       "    <tr>\n",
       "      <th>3553</th>\n",
       "      <td>40000</td>\n",
       "      <td>27</td>\n",
       "      <td>0</td>\n",
       "      <td>0</td>\n",
       "      <td>-1</td>\n",
       "      <td>32228</td>\n",
       "      <td>38904</td>\n",
       "      <td>4235</td>\n",
       "      <td>0</td>\n",
       "      <td>1</td>\n",
       "      <td>1</td>\n",
       "      <td>0</td>\n",
       "      <td>0</td>\n",
       "      <td>0</td>\n",
       "      <td>0</td>\n",
       "      <td>1</td>\n",
       "      <td>0</td>\n",
       "    </tr>\n",
       "    <tr>\n",
       "      <th>9040</th>\n",
       "      <td>20000</td>\n",
       "      <td>52</td>\n",
       "      <td>1</td>\n",
       "      <td>2</td>\n",
       "      <td>0</td>\n",
       "      <td>20838</td>\n",
       "      <td>20212</td>\n",
       "      <td>20148</td>\n",
       "      <td>1</td>\n",
       "      <td>0</td>\n",
       "      <td>0</td>\n",
       "      <td>0</td>\n",
       "      <td>1</td>\n",
       "      <td>0</td>\n",
       "      <td>1</td>\n",
       "      <td>0</td>\n",
       "      <td>0</td>\n",
       "    </tr>\n",
       "    <tr>\n",
       "      <th>...</th>\n",
       "      <td>...</td>\n",
       "      <td>...</td>\n",
       "      <td>...</td>\n",
       "      <td>...</td>\n",
       "      <td>...</td>\n",
       "      <td>...</td>\n",
       "      <td>...</td>\n",
       "      <td>...</td>\n",
       "      <td>...</td>\n",
       "      <td>...</td>\n",
       "      <td>...</td>\n",
       "      <td>...</td>\n",
       "      <td>...</td>\n",
       "      <td>...</td>\n",
       "      <td>...</td>\n",
       "      <td>...</td>\n",
       "      <td>...</td>\n",
       "    </tr>\n",
       "    <tr>\n",
       "      <th>14779</th>\n",
       "      <td>30000</td>\n",
       "      <td>25</td>\n",
       "      <td>0</td>\n",
       "      <td>0</td>\n",
       "      <td>0</td>\n",
       "      <td>25115</td>\n",
       "      <td>26287</td>\n",
       "      <td>26602</td>\n",
       "      <td>0</td>\n",
       "      <td>1</td>\n",
       "      <td>1</td>\n",
       "      <td>0</td>\n",
       "      <td>0</td>\n",
       "      <td>0</td>\n",
       "      <td>0</td>\n",
       "      <td>1</td>\n",
       "      <td>0</td>\n",
       "    </tr>\n",
       "    <tr>\n",
       "      <th>2726</th>\n",
       "      <td>200000</td>\n",
       "      <td>39</td>\n",
       "      <td>0</td>\n",
       "      <td>0</td>\n",
       "      <td>0</td>\n",
       "      <td>178665</td>\n",
       "      <td>133266</td>\n",
       "      <td>95836</td>\n",
       "      <td>0</td>\n",
       "      <td>1</td>\n",
       "      <td>0</td>\n",
       "      <td>1</td>\n",
       "      <td>0</td>\n",
       "      <td>0</td>\n",
       "      <td>1</td>\n",
       "      <td>0</td>\n",
       "      <td>0</td>\n",
       "    </tr>\n",
       "    <tr>\n",
       "      <th>17178</th>\n",
       "      <td>140000</td>\n",
       "      <td>29</td>\n",
       "      <td>0</td>\n",
       "      <td>0</td>\n",
       "      <td>0</td>\n",
       "      <td>100064</td>\n",
       "      <td>95224</td>\n",
       "      <td>104440</td>\n",
       "      <td>0</td>\n",
       "      <td>1</td>\n",
       "      <td>0</td>\n",
       "      <td>1</td>\n",
       "      <td>0</td>\n",
       "      <td>0</td>\n",
       "      <td>1</td>\n",
       "      <td>0</td>\n",
       "      <td>0</td>\n",
       "    </tr>\n",
       "    <tr>\n",
       "      <th>24996</th>\n",
       "      <td>80000</td>\n",
       "      <td>47</td>\n",
       "      <td>2</td>\n",
       "      <td>2</td>\n",
       "      <td>2</td>\n",
       "      <td>68250</td>\n",
       "      <td>73424</td>\n",
       "      <td>71691</td>\n",
       "      <td>1</td>\n",
       "      <td>0</td>\n",
       "      <td>0</td>\n",
       "      <td>1</td>\n",
       "      <td>0</td>\n",
       "      <td>0</td>\n",
       "      <td>1</td>\n",
       "      <td>0</td>\n",
       "      <td>0</td>\n",
       "    </tr>\n",
       "    <tr>\n",
       "      <th>10379</th>\n",
       "      <td>310000</td>\n",
       "      <td>29</td>\n",
       "      <td>-1</td>\n",
       "      <td>-1</td>\n",
       "      <td>-1</td>\n",
       "      <td>760</td>\n",
       "      <td>3674</td>\n",
       "      <td>368</td>\n",
       "      <td>0</td>\n",
       "      <td>1</td>\n",
       "      <td>1</td>\n",
       "      <td>0</td>\n",
       "      <td>0</td>\n",
       "      <td>0</td>\n",
       "      <td>0</td>\n",
       "      <td>1</td>\n",
       "      <td>0</td>\n",
       "    </tr>\n",
       "  </tbody>\n",
       "</table>\n",
       "<p>25161 rows × 17 columns</p>\n",
       "</div>"
      ],
      "text/plain": [
       "       LIMIT_BAL  AGE  PAY_0  PAY_2  PAY_3  BILL_AMT1  BILL_AMT2  BILL_AMT3  \\\n",
       "28563      30000   35      0      0      0      27873      27326      27648   \n",
       "26595     120000   30     -2     -2     -2          0          0          0   \n",
       "15017      20000   44      0      0      2      16401       9620       9264   \n",
       "3553       40000   27      0      0     -1      32228      38904       4235   \n",
       "9040       20000   52      1      2      0      20838      20212      20148   \n",
       "...          ...  ...    ...    ...    ...        ...        ...        ...   \n",
       "14779      30000   25      0      0      0      25115      26287      26602   \n",
       "2726      200000   39      0      0      0     178665     133266      95836   \n",
       "17178     140000   29      0      0      0     100064      95224     104440   \n",
       "24996      80000   47      2      2      2      68250      73424      71691   \n",
       "10379     310000   29     -1     -1     -1        760       3674        368   \n",
       "\n",
       "       SEX_1  SEX_2  EDUCATION_1.0  EDUCATION_2.0  EDUCATION_3.0  \\\n",
       "28563      0      1              0              0              1   \n",
       "26595      1      0              1              0              0   \n",
       "15017      1      0              0              1              0   \n",
       "3553       0      1              1              0              0   \n",
       "9040       1      0              0              0              1   \n",
       "...      ...    ...            ...            ...            ...   \n",
       "14779      0      1              1              0              0   \n",
       "2726       0      1              0              1              0   \n",
       "17178      0      1              0              1              0   \n",
       "24996      1      0              0              1              0   \n",
       "10379      0      1              1              0              0   \n",
       "\n",
       "       EDUCATION_4.0  MARRIAGE_1.0  MARRIAGE_2.0  MARRIAGE_3.0  \n",
       "28563              0             0             1             0  \n",
       "26595              0             0             1             0  \n",
       "15017              0             1             0             0  \n",
       "3553               0             0             1             0  \n",
       "9040               0             1             0             0  \n",
       "...              ...           ...           ...           ...  \n",
       "14779              0             0             1             0  \n",
       "2726               0             1             0             0  \n",
       "17178              0             1             0             0  \n",
       "24996              0             1             0             0  \n",
       "10379              0             0             1             0  \n",
       "\n",
       "[25161 rows x 17 columns]"
      ]
     },
     "execution_count": 27,
     "metadata": {},
     "output_type": "execute_result"
    }
   ],
   "source": [
    "X_train"
   ]
  },
  {
   "cell_type": "markdown",
   "id": "37d2cb7a",
   "metadata": {},
   "source": [
    "Значения опеределны верно."
   ]
  },
  {
   "cell_type": "markdown",
   "id": "e66a2df5",
   "metadata": {},
   "source": [
    "## SVM с перекрёстной проверкой \n",
    "\n",
    "Построим несколько вариантов модели SVM с различными ядерными функциями."
   ]
  },
  {
   "cell_type": "code",
   "execution_count": 28,
   "id": "2935464d",
   "metadata": {},
   "outputs": [
    {
     "name": "stdout",
     "output_type": "stream",
     "text": [
      "Сеточный поиск занял 459.25 секунд\n"
     ]
    }
   ],
   "source": [
    "pipe_svc = make_pipeline(StandardScaler(), \n",
    "                         SVC(random_state = my_seed))\n",
    "\n",
    "# настроим параметры SVM с помощью сеточного поиска\n",
    "param_range = [0.0001, 0.001] #[0.0001, 0.001, 0.01, 0.1, 1.0, 10.0, 100.0, 1000.0]\n",
    "param_grid = [{'svc__C': param_range,\n",
    "               'svc__kernel': ['linear']},\n",
    "              {'svc__C': param_range,\n",
    "               'svc__gamma': param_range,\n",
    "               'svc__kernel': ['rbf']},\n",
    "              {'svc__C': param_range,\n",
    "               'svc__gamma': param_range,\n",
    "               'svc__degree' : [2, 3],\n",
    "               'svc__kernel': ['poly']}]\n",
    "\n",
    "# разбиения для перекрёстной проверки\n",
    "kfold = KFold(n_splits = 5, random_state = my_seed, shuffle = True)\n",
    "\n",
    "gs = GridSearchCV(estimator = pipe_svc, param_grid = param_grid, \n",
    "                  scoring = 'accuracy', refit = True, cv = kfold, \n",
    "                  n_jobs = -1)\n",
    "\n",
    "# таймер\n",
    "tic = time.perf_counter()\n",
    "# запускаем сеточный поиск\n",
    "gs = gs.fit(X_train, y_train)\n",
    "# таймер\n",
    "toc = time.perf_counter()\n",
    "print(f\"Сеточный поиск занял {toc - tic:0.2f} секунд\", sep='')"
   ]
  },
  {
   "cell_type": "code",
   "execution_count": 29,
   "id": "ce916063",
   "metadata": {},
   "outputs": [
    {
     "data": {
      "text/plain": [
       "0.783"
      ]
     },
     "execution_count": 29,
     "metadata": {},
     "output_type": "execute_result"
    }
   ],
   "source": [
    "# точность лучшей модели\n",
    "np.around(gs.best_score_, 3)"
   ]
  },
  {
   "cell_type": "code",
   "execution_count": 30,
   "id": "701c413e",
   "metadata": {},
   "outputs": [
    {
     "data": {
      "text/plain": [
       "'linear'"
      ]
     },
     "execution_count": 30,
     "metadata": {},
     "output_type": "execute_result"
    }
   ],
   "source": [
    "# параметры лучшей модели\n",
    "# * ядерная функция\n",
    "gs.best_estimator_.get_params()['svc__kernel']"
   ]
  },
  {
   "cell_type": "code",
   "execution_count": 31,
   "id": "d3276234",
   "metadata": {},
   "outputs": [
    {
     "data": {
      "text/plain": [
       "0.001"
      ]
     },
     "execution_count": 31,
     "metadata": {},
     "output_type": "execute_result"
    }
   ],
   "source": [
    "# * параметр регуляризации\n",
    "gs.best_estimator_.get_params()['svc__C']"
   ]
  },
  {
   "cell_type": "code",
   "execution_count": 32,
   "id": "33434419",
   "metadata": {},
   "outputs": [
    {
     "data": {
      "text/plain": [
       "'scale'"
      ]
     },
     "execution_count": 32,
     "metadata": {},
     "output_type": "execute_result"
    }
   ],
   "source": [
    "# * коэффициент ядерной функции (для ядер 'rbf', 'poly' и 'sigmoid')\n",
    "gs.best_estimator_.get_params()['svc__gamma']"
   ]
  },
  {
   "cell_type": "code",
   "execution_count": 33,
   "id": "f502a713",
   "metadata": {
    "scrolled": true
   },
   "outputs": [
    {
     "data": {
      "text/plain": [
       "3"
      ]
     },
     "execution_count": 33,
     "metadata": {},
     "output_type": "execute_result"
    }
   ],
   "source": [
    "# * степень полинома (для ядра 'poly')\n",
    "gs.best_estimator_.get_params()['svc__degree']"
   ]
  },
  {
   "cell_type": "markdown",
   "id": "42254d2b",
   "metadata": {},
   "source": [
    "\n",
    "📚 **Пример визуализации небольшого дерева**\n",
    "\n",
    "Посмотреть результаты сеточного поиска можно в объектах:\n",
    "\n",
    "* `gs.cv_results_['params']` – список сочетаний параметров;\n",
    "* `gs.cv_results_['mean_test_score']` – значения для сочетаний параметров (средние по блокам перекрёстной проверки).\n"
   ]
  },
  {
   "cell_type": "code",
   "execution_count": 34,
   "id": "4474a48d",
   "metadata": {},
   "outputs": [
    {
     "name": "stdout",
     "output_type": "stream",
     "text": [
      "Acc с перекрёстной проверкой \n",
      "для модели sc_pca_svc : 0.783\n"
     ]
    }
   ],
   "source": [
    "# записываем точность\n",
    "score.append(np.around(gs.best_score_, 3))\n",
    "score_models.append('sc_pca_svc')\n",
    "print('Acc с перекрёстной проверкой',\n",
    " '\\nдля модели', score_models[1], ':', score[1])"
   ]
  },
  {
   "cell_type": "markdown",
   "id": "8c555295",
   "metadata": {},
   "source": [
    "# Метод kNN"
   ]
  },
  {
   "cell_type": "code",
   "execution_count": 35,
   "id": "494f92a9",
   "metadata": {},
   "outputs": [
    {
     "name": "stdout",
     "output_type": "stream",
     "text": [
      "Сеточный поиск занял 139.97 секунд\n"
     ]
    }
   ],
   "source": [
    "k_range = list(range(1,64))\n",
    "weight_options = [\"uniform\", \"distance\"]\n",
    "\n",
    "pipe_knn = Pipeline(steps=[('standard', StandardScaler()), \n",
    "                           ('PCA', PCA(n_components = 5)), \n",
    "                           ('knn', KNeighborsClassifier())\n",
    "                          ])\n",
    "param_grid = {'knn__n_neighbors': list(range(1,64))}\n",
    "\n",
    "knn = KNeighborsClassifier()\n",
    "kfold = KFold(n_splits = 5, random_state = my_seed, shuffle = True)\n",
    "grid = GridSearchCV(pipe_knn, param_grid, cv = kfold, scoring = 'accuracy')\n",
    "\n",
    "tic = time.perf_counter()\n",
    "grid.fit(X_train, y_train)\n",
    "toc = time.perf_counter()\n",
    "\n",
    "print(f\"Сеточный поиск занял {toc - tic:0.2f} секунд\", sep='')"
   ]
  },
  {
   "cell_type": "code",
   "execution_count": 36,
   "id": "ac693c6a",
   "metadata": {},
   "outputs": [
    {
     "name": "stdout",
     "output_type": "stream",
     "text": [
      "Acc с перекрёстной проверкой \n",
      "для модели sc_pca_knn : 0.803\n"
     ]
    }
   ],
   "source": [
    "# записываем точность\n",
    "score.append(np.around(grid.best_score_,3))\n",
    "score_models.append('sc_pca_knn')\n",
    "\n",
    "print('Acc с перекрёстной проверкой',\n",
    "    '\\nдля модели',score_models[2],':',score[2])"
   ]
  },
  {
   "cell_type": "markdown",
   "id": "041010d5",
   "metadata": {},
   "source": [
    "\n",
    "# Прогноз на отложенные наблюдения по лучшей модели\n",
    "\n",
    "Ещё раз посмотрим на точность построенных моделей.  "
   ]
  },
  {
   "cell_type": "code",
   "execution_count": 37,
   "id": "13f506f8",
   "metadata": {},
   "outputs": [
    {
     "data": {
      "text/html": [
       "<div>\n",
       "<style scoped>\n",
       "    .dataframe tbody tr th:only-of-type {\n",
       "        vertical-align: middle;\n",
       "    }\n",
       "\n",
       "    .dataframe tbody tr th {\n",
       "        vertical-align: top;\n",
       "    }\n",
       "\n",
       "    .dataframe thead th {\n",
       "        text-align: right;\n",
       "    }\n",
       "</style>\n",
       "<table border=\"1\" class=\"dataframe\">\n",
       "  <thead>\n",
       "    <tr style=\"text-align: right;\">\n",
       "      <th></th>\n",
       "      <th>Модель</th>\n",
       "      <th>Acc</th>\n",
       "    </tr>\n",
       "  </thead>\n",
       "  <tbody>\n",
       "    <tr>\n",
       "      <th>0</th>\n",
       "      <td>sc_pca_logit</td>\n",
       "      <td>0.785</td>\n",
       "    </tr>\n",
       "    <tr>\n",
       "      <th>1</th>\n",
       "      <td>sc_pca_svc</td>\n",
       "      <td>0.783</td>\n",
       "    </tr>\n",
       "    <tr>\n",
       "      <th>2</th>\n",
       "      <td>sc_pca_knn</td>\n",
       "      <td>0.803</td>\n",
       "    </tr>\n",
       "  </tbody>\n",
       "</table>\n",
       "</div>"
      ],
      "text/plain": [
       "         Модель    Acc\n",
       "0  sc_pca_logit  0.785\n",
       "1    sc_pca_svc  0.783\n",
       "2    sc_pca_knn  0.803"
      ]
     },
     "execution_count": 37,
     "metadata": {},
     "output_type": "execute_result"
    }
   ],
   "source": [
    "# сводка по точности моделей\n",
    "pd.DataFrame({'Модель' : score_models, 'Acc' : score})"
   ]
  },
  {
   "cell_type": "markdown",
   "id": "99c7c905",
   "metadata": {},
   "source": [
    "#### Вывод\n",
    "\n",
    "Все модели показывают среднюю точность по показателю $Acc$, однако самой точной оказывается модель, построенная методом `kNN`.\n",
    "\n",
    "Сделаем прогноз на отложенные наблюдения.   "
   ]
  },
  {
   "cell_type": "code",
   "execution_count": 40,
   "id": "6f19fd52",
   "metadata": {},
   "outputs": [
    {
     "name": "stdout",
     "output_type": "stream",
     "text": [
      "              precision    recall  f1-score   support\n",
      "\n",
      "           0       0.81      0.95      0.87      3419\n",
      "           1       0.61      0.26      0.36      1021\n",
      "\n",
      "    accuracy                           0.79      4440\n",
      "   macro avg       0.71      0.60      0.62      4440\n",
      "weighted avg       0.76      0.79      0.76      4440\n",
      "\n"
     ]
    }
   ],
   "source": [
    "# данные для прогноза\n",
    "X_pred = DF_predict.drop(['Y'], axis=1)\n",
    "# строим прогноз\n",
    "y_hat = grid.best_estimator_.predict(X_pred)\n",
    "# характеристики точности\n",
    "print(classification_report(DF_predict['Y'], y_hat))"
   ]
  },
  {
   "cell_type": "markdown",
   "id": "b69f6948",
   "metadata": {},
   "source": [
    "#### Вывод\n",
    "\n",
    "Для выбранной модели:\n",
    "\n",
    "* Специфичность - `0.95`\n",
    "* Чувствительность - `0.26`\n",
    "* Совокупная точность - `0.79`\n",
    "\n",
    "В целом это говорит о хорошем качестве модели, хотя чувствительность показывает не самый лучший результат. "
   ]
  },
  {
   "cell_type": "markdown",
   "id": "f014bc1d",
   "metadata": {},
   "source": [
    "Cледует отметить, что в данных бОльшая часть переменных - это категориальные переменные, что ухудшает работу по созданию наиболее точной модели и не позволяет достигнуть точности в 96%."
   ]
  },
  {
   "cell_type": "markdown",
   "id": "af39298f",
   "metadata": {},
   "source": [
    "# Источники \n",
    "\n",
    "1. Джеймс Г., Уиттон Д., Хасти Т., Тибширани Р. Введение в статистическое обучение с\n",
    "примерами на языке R. Пер. с англ. С.Э. Мастицкого – М.: ДМК Пресс, 2016 – 450 с.\n",
    "2. Рашка С. Python и машинное обучение: крайне необходимое пособие по новейшей\n",
    "предсказательной аналитике, обязательное для более глубокого понимания методологии\n",
    "машинного обучения / пер. с англ. А.В. Логунова. – М.: ДМК Пресс, 2017. – 418 с.: ил."
   ]
  }
 ],
 "metadata": {
  "kernelspec": {
   "display_name": "Python 3",
   "language": "python",
   "name": "python3"
  },
  "language_info": {
   "codemirror_mode": {
    "name": "ipython",
    "version": 3
   },
   "file_extension": ".py",
   "mimetype": "text/x-python",
   "name": "python",
   "nbconvert_exporter": "python",
   "pygments_lexer": "ipython3",
   "version": "3.8.8"
  }
 },
 "nbformat": 4,
 "nbformat_minor": 5
}
